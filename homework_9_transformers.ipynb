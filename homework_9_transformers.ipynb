{
 "cells": [
  {
   "cell_type": "markdown",
   "id": "5faa35e3",
   "metadata": {},
   "source": [
    "## Задание 1"
   ]
  },
  {
   "cell_type": "code",
   "execution_count": 1,
   "id": "b3e32312",
   "metadata": {},
   "outputs": [],
   "source": [
    "import torch\n",
    "import numpy as np\n",
    "import matplotlib.pyplot as plt\n",
    "import pandas as pd\n",
    "import re\n",
    "import random\n",
    "\n",
    "from sklearn.model_selection import train_test_split\n",
    "from tqdm import tqdm, trange\n",
    "from tqdm.auto import tqdm\n",
    "from sklearn.metrics import accuracy_score, precision_score, f1_score, recall_score, classification_report\n",
    "from transformers import BertTokenizer, BertModel, AdamW, BertConfig, RobertaTokenizer, RobertaModel, RobertaConfig, Adafactor\n",
    "from torch.nn import functional as F\n",
    "from tensorflow.keras.preprocessing.sequence import pad_sequences\n",
    "\n",
    "%matplotlib inline"
   ]
  },
  {
   "cell_type": "code",
   "execution_count": 2,
   "id": "86d8f9d5",
   "metadata": {},
   "outputs": [],
   "source": [
    "data = pd.read_csv('lenta_40k.csv')"
   ]
  },
  {
   "cell_type": "code",
   "execution_count": 3,
   "id": "5ba7d8fa",
   "metadata": {},
   "outputs": [
    {
     "data": {
      "text/plain": [
       "Россия               9622\n",
       "Мир                  8193\n",
       "Экономика            4768\n",
       "Спорт                3894\n",
       "Наука и техника      3204\n",
       "Культура             3183\n",
       "Бывший СССР          3182\n",
       "Интернет и СМИ       2643\n",
       "Из жизни             1679\n",
       "Дом                  1315\n",
       "Силовые структуры    1203\n",
       "Ценности              460\n",
       "Бизнес                433\n",
       "Путешествия           418\n",
       "69-я параллель         82\n",
       "Крым                   43\n",
       "Культпросвет           25\n",
       "Легпром                 6\n",
       "Библиотека              3\n",
       "Name: topic, dtype: int64"
      ]
     },
     "execution_count": 3,
     "metadata": {},
     "output_type": "execute_result"
    }
   ],
   "source": [
    "data['topic'].value_counts()"
   ]
  },
  {
   "cell_type": "code",
   "execution_count": 4,
   "id": "50d342d0",
   "metadata": {},
   "outputs": [],
   "source": [
    "data = data[~data['topic'].isin(['69-я параллель', 'Крым', 'Культпросвет ', 'Легпром', 'Библиотека'])]"
   ]
  },
  {
   "cell_type": "code",
   "execution_count": 5,
   "id": "7d7ee38d",
   "metadata": {},
   "outputs": [
    {
     "data": {
      "text/plain": [
       "Россия               9622\n",
       "Мир                  8193\n",
       "Экономика            4768\n",
       "Спорт                3894\n",
       "Наука и техника      3204\n",
       "Культура             3183\n",
       "Бывший СССР          3182\n",
       "Интернет и СМИ       2643\n",
       "Из жизни             1679\n",
       "Дом                  1315\n",
       "Силовые структуры    1203\n",
       "Ценности              460\n",
       "Бизнес                433\n",
       "Путешествия           418\n",
       "Name: topic, dtype: int64"
      ]
     },
     "execution_count": 5,
     "metadata": {},
     "output_type": "execute_result"
    }
   ],
   "source": [
    "data['topic'].value_counts()"
   ]
  },
  {
   "cell_type": "code",
   "execution_count": 6,
   "id": "0f19db27",
   "metadata": {},
   "outputs": [
    {
     "data": {
      "text/plain": [
       "device(type='cuda', index=6)"
      ]
     },
     "execution_count": 6,
     "metadata": {},
     "output_type": "execute_result"
    }
   ],
   "source": [
    "device = torch.device(\"cuda:6\" if torch.cuda.is_available() else 'cpu')\n",
    "device"
   ]
  },
  {
   "cell_type": "code",
   "execution_count": 7,
   "id": "137d3ad9",
   "metadata": {},
   "outputs": [],
   "source": [
    "label2id = {label: i for i, label in enumerate(data['topic'].unique())}"
   ]
  },
  {
   "cell_type": "code",
   "execution_count": 23,
   "id": "6649a402",
   "metadata": {},
   "outputs": [
    {
     "data": {
      "text/plain": [
       "{'Спорт': 0,\n",
       " 'Мир': 1,\n",
       " 'Интернет и СМИ': 2,\n",
       " 'Россия': 3,\n",
       " 'Наука и техника': 4,\n",
       " 'Силовые структуры': 5,\n",
       " 'Бывший СССР': 6,\n",
       " 'Культура': 7,\n",
       " 'Экономика': 8,\n",
       " 'Ценности': 9,\n",
       " 'Из жизни': 10,\n",
       " 'Дом': 11,\n",
       " 'Бизнес': 12,\n",
       " 'Путешествия': 13}"
      ]
     },
     "execution_count": 23,
     "metadata": {},
     "output_type": "execute_result"
    }
   ],
   "source": [
    "label2id"
   ]
  },
  {
   "cell_type": "code",
   "execution_count": 24,
   "id": "194507fe",
   "metadata": {},
   "outputs": [],
   "source": [
    "data['text'] = data['text'].apply(lambda x: x[:512])\n",
    "data['topic'] = data['topic'].map(label2id)"
   ]
  },
  {
   "cell_type": "code",
   "execution_count": 63,
   "id": "ca80ff7a",
   "metadata": {},
   "outputs": [
    {
     "data": {
      "text/plain": [
       "3     9622\n",
       "1     8193\n",
       "8     4768\n",
       "0     3894\n",
       "4     3204\n",
       "7     3183\n",
       "6     3182\n",
       "2     2643\n",
       "10    1679\n",
       "11    1315\n",
       "5     1203\n",
       "9      460\n",
       "12     433\n",
       "13     418\n",
       "Name: topic, dtype: int64"
      ]
     },
     "execution_count": 63,
     "metadata": {},
     "output_type": "execute_result"
    }
   ],
   "source": [
    "data['topic'].value_counts()"
   ]
  },
  {
   "cell_type": "code",
   "execution_count": 64,
   "id": "5c6e0c6d",
   "metadata": {},
   "outputs": [],
   "source": [
    "data['text'] = data['text'].apply(lambda x: '[CLS] ' + x + ' [SEP]')"
   ]
  },
  {
   "cell_type": "code",
   "execution_count": 10,
   "id": "f025f82f",
   "metadata": {},
   "outputs": [],
   "source": [
    "train, val = train_test_split(data, test_size=0.15, stratify=data['topic'], shuffle=True)"
   ]
  },
  {
   "cell_type": "code",
   "execution_count": 11,
   "id": "4b139b7e",
   "metadata": {},
   "outputs": [
    {
     "data": {
      "text/plain": [
       "((37567, 2), (6630, 2))"
      ]
     },
     "execution_count": 11,
     "metadata": {},
     "output_type": "execute_result"
    }
   ],
   "source": [
    "train.shape, val.shape"
   ]
  },
  {
   "cell_type": "code",
   "execution_count": 12,
   "id": "3ec6e598",
   "metadata": {},
   "outputs": [],
   "source": [
    "x_train, y_train = train['text'], train['topic']\n",
    "x_val, y_val = val['text'], val['topic']"
   ]
  },
  {
   "cell_type": "code",
   "execution_count": 27,
   "id": "ca6b78fb",
   "metadata": {},
   "outputs": [],
   "source": [
    "y_train = y_train.map(label2id)\n",
    "y_val = y_val.map(label2id)"
   ]
  },
  {
   "cell_type": "markdown",
   "id": "d08e9a3b",
   "metadata": {},
   "source": [
    "Первую модель возьмем DeepPavlov/rubert-base-cased:"
   ]
  },
  {
   "cell_type": "code",
   "execution_count": 28,
   "id": "6dc8bc1b",
   "metadata": {},
   "outputs": [],
   "source": [
    "tokenizer = BertTokenizer.from_pretrained(\"DeepPavlov/rubert-base-cased\")"
   ]
  },
  {
   "cell_type": "code",
   "execution_count": 29,
   "id": "b532fb5e",
   "metadata": {},
   "outputs": [
    {
     "data": {
      "application/vnd.jupyter.widget-view+json": {
       "model_id": "4df4a81f3cef43e2aa5c21be895ce92d",
       "version_major": 2,
       "version_minor": 0
      },
      "text/plain": [
       "  0%|          | 0/37567 [00:00<?, ?it/s]"
      ]
     },
     "metadata": {},
     "output_type": "display_data"
    },
    {
     "data": {
      "application/vnd.jupyter.widget-view+json": {
       "model_id": "5ef63d0c3a654d06a3647d77e9a56289",
       "version_major": 2,
       "version_minor": 0
      },
      "text/plain": [
       "  0%|          | 0/6630 [00:00<?, ?it/s]"
      ]
     },
     "metadata": {},
     "output_type": "display_data"
    }
   ],
   "source": [
    "tokenized_texts = [tokenizer.tokenize(sent) for sent in tqdm(x_train)]\n",
    "val_tokenized_texts = [tokenizer.tokenize(sent) for sent in tqdm(x_val)]"
   ]
  },
  {
   "cell_type": "code",
   "execution_count": 30,
   "id": "c2a4f9c5",
   "metadata": {},
   "outputs": [
    {
     "data": {
      "application/vnd.jupyter.widget-view+json": {
       "model_id": "dc4145b29058425c994024c0ffd59117",
       "version_major": 2,
       "version_minor": 0
      },
      "text/plain": [
       "  0%|          | 0/37567 [00:00<?, ?it/s]"
      ]
     },
     "metadata": {},
     "output_type": "display_data"
    },
    {
     "data": {
      "application/vnd.jupyter.widget-view+json": {
       "model_id": "6dce52c143d04941883c69454d4fb2e8",
       "version_major": 2,
       "version_minor": 0
      },
      "text/plain": [
       "  0%|          | 0/6630 [00:00<?, ?it/s]"
      ]
     },
     "metadata": {},
     "output_type": "display_data"
    }
   ],
   "source": [
    "train_inputs = [tokenizer.convert_tokens_to_ids(x) for x in tqdm(tokenized_texts)]\n",
    "\n",
    "train_inputs = pad_sequences(train_inputs, \n",
    "                          dtype='long', \n",
    "                          padding='post', \n",
    "                          truncating='post')\n",
    "\n",
    "train_masks = [[float(i>0) for i in seq] for seq in train_inputs]\n",
    "\n",
    "validation_inputs = [tokenizer.convert_tokens_to_ids(x) for x in tqdm(val_tokenized_texts)]\n",
    "\n",
    "validation_inputs = pad_sequences(validation_inputs, \n",
    "                          dtype='long', \n",
    "                          padding='post', \n",
    "                          truncating='post')\n",
    "\n",
    "validation_masks = [[float(i>0) for i in seq] for seq in validation_inputs]\n",
    "\n",
    "train_labels, validation_labels = np.array(y_train), np.array(y_val)\n",
    "\n",
    "train_inputs = torch.tensor(train_inputs)\n",
    "train_labels = torch.tensor(train_labels)\n",
    "train_masks = torch.tensor(train_masks)\n",
    "\n",
    "validation_inputs = torch.tensor(validation_inputs)\n",
    "validation_labels = torch.tensor(validation_labels)\n",
    "validation_masks = torch.tensor(validation_masks)\n",
    "\n",
    "train_data = torch.utils.data.TensorDataset(train_inputs, train_masks, train_labels)\n",
    "train_dataloader = torch.utils.data.DataLoader(\n",
    "    train_data,\n",
    "    batch_size=8,\n",
    "    sampler=torch.utils.data.RandomSampler(train_data)\n",
    ")\n",
    "\n",
    "validation_data = torch.utils.data.TensorDataset(validation_inputs, validation_masks, validation_labels)\n",
    "validation_dataloader = torch.utils.data.DataLoader(\n",
    "    validation_data,\n",
    "    batch_size=8,\n",
    "    sampler=torch.utils.data.SequentialSampler(validation_data)\n",
    ")"
   ]
  },
  {
   "cell_type": "code",
   "execution_count": 31,
   "id": "921d5b29",
   "metadata": {},
   "outputs": [],
   "source": [
    "num_labels = data['topic'].nunique()"
   ]
  },
  {
   "cell_type": "markdown",
   "id": "e3bd4354",
   "metadata": {},
   "source": [
    "Класс модели:"
   ]
  },
  {
   "cell_type": "code",
   "execution_count": 32,
   "id": "ef7376a6",
   "metadata": {},
   "outputs": [
    {
     "name": "stderr",
     "output_type": "stream",
     "text": [
      "Some weights of the model checkpoint at DeepPavlov/rubert-base-cased were not used when initializing BertModel: ['cls.seq_relationship.weight', 'cls.seq_relationship.bias', 'cls.predictions.transform.LayerNorm.weight', 'cls.predictions.decoder.weight', 'cls.predictions.transform.dense.bias', 'cls.predictions.transform.LayerNorm.bias', 'cls.predictions.transform.dense.weight', 'cls.predictions.bias', 'cls.predictions.decoder.bias']\n",
      "- This IS expected if you are initializing BertModel from the checkpoint of a model trained on another task or with another architecture (e.g. initializing a BertForSequenceClassification model from a BertForPreTraining model).\n",
      "- This IS NOT expected if you are initializing BertModel from the checkpoint of a model that you expect to be exactly identical (initializing a BertForSequenceClassification model from a BertForSequenceClassification model).\n"
     ]
    }
   ],
   "source": [
    "class myBertModel(torch.nn.Module):\n",
    "    def __init__(self, hidden_neurons, num_labels):\n",
    "        super(myBertModel, self).__init__()\n",
    "        self.num_labels = num_labels\n",
    "        config = BertConfig.from_pretrained('DeepPavlov/rubert-base-cased', num_labels=self.num_labels)\n",
    "        self.model = BertModel.from_pretrained('DeepPavlov/rubert-base-cased', config=config)\n",
    "        self.hidden_neurons = hidden_neurons\n",
    "        self.linear1 = torch.nn.Linear(config.hidden_size, self.hidden_neurons)\n",
    "        self.linear2 = torch.nn.Linear(self.hidden_neurons, int(self.hidden_neurons / 2))\n",
    "        self.classifier = torch.nn.Linear(int(self.hidden_neurons / 2), self.num_labels)\n",
    "        self.activation = torch.nn.Sigmoid()\n",
    "        self.dropout = torch.nn.Dropout(.3)\n",
    "        self.batchnorm1 = torch.nn.BatchNorm1d(self.hidden_neurons)\n",
    "        self.batchnorm2 = torch.nn.BatchNorm1d(int(self.hidden_neurons / 2))\n",
    "\n",
    "    def forward(self, input_ids, attention_mask):\n",
    "        bert_output = self.model(input_ids=input_ids, attention_mask=attention_mask)\n",
    "        seq_output = bert_output[0]\n",
    "        pooled_output = seq_output.mean(axis=1)\n",
    "        pooled_output = self.dropout(pooled_output)\n",
    "        \n",
    "        x1 = self.dropout(F.relu(self.batchnorm1(self.linear1(pooled_output))))\n",
    "        x1 = self.dropout(F.relu(self.batchnorm2(self.linear2(x1))))\n",
    "        \n",
    "        scores = self.dropout(self.classifier(x1))\n",
    "        scores = self.activation(scores)\n",
    "        return scores\n",
    "\n",
    "my_model = myBertModel(hidden_neurons=512, num_labels=num_labels)"
   ]
  },
  {
   "cell_type": "code",
   "execution_count": 38,
   "id": "cba891b3",
   "metadata": {},
   "outputs": [],
   "source": [
    "def train_bert(model, n_model, n_epochs, train_dataloader, validation_dataloader, lr):\n",
    "    model.to(device)\n",
    "    optimizer = AdamW(model.parameters(), lr=lr)\n",
    "    scheduler = torch.optim.lr_scheduler.ReduceLROnPlateau(optimizer, 'min')\n",
    "    loss = torch.nn.CrossEntropyLoss()\n",
    "#     loss = torch.nn.BCEWithLogitsLoss()\n",
    "    loss_set = []\n",
    "    val_loss_set = []\n",
    "\n",
    "    for epoch in range(n_epochs):\n",
    "          epoch_loss_set = []\n",
    "\n",
    "          model.train()\n",
    "\n",
    "          for j, batch in enumerate(tqdm(train_dataloader)):\n",
    "              \n",
    "              batch = tuple(t.to(device) for t in batch)\n",
    "              b_input_ids, b_input_mask, b_labels = batch\n",
    "              \n",
    "              optimizer.zero_grad()\n",
    "              \n",
    "              pred_probs = model.forward(b_input_ids, b_input_mask)\n",
    "\n",
    "#               b_labels = b_labels.float().reshape(-1, 1) # удалить при смене лосса\n",
    "\n",
    "              my_loss = loss(pred_probs, b_labels)\n",
    "              epoch_loss_set.append(my_loss.item())\n",
    "              my_loss.backward()\n",
    "              \n",
    "              pred_probs = torch.nn.Sigmoid()(pred_probs)\n",
    "              pred_probs = pred_probs.detach().to('cpu').numpy()\n",
    "              pred_labels = pred_probs.argmax(axis=1) # восстановить при смене\n",
    "#               pred_labels = np.where(pred_probs > 0.5, 1, 0)\n",
    "              b_labels = b_labels.to('cpu').numpy()\n",
    "                  \n",
    "              optimizer.step()\n",
    "                  \n",
    "              if j == 0:\n",
    "                  all_train_labels = b_labels\n",
    "                  all_train_preds = pred_labels\n",
    "              else:\n",
    "                  all_train_labels = np.hstack([all_train_labels, b_labels])\n",
    "                  all_train_preds = np.hstack([all_train_preds, pred_labels])\n",
    "                          \n",
    "          loss_set.extend(epoch_loss_set)\n",
    "          \n",
    "          train_f1 = f1_score(all_train_labels, all_train_preds, average='weighted')\n",
    "          print(classification_report(all_train_labels, all_train_preds, target_names=label2id.keys()))  \n",
    "          print()\n",
    "          print('Epoch {} ... Train f1: {:.2f} ... Mean train loss: {:.4f}'.format(epoch, train_f1, np.mean(epoch_loss_set)))\n",
    "          print()\n",
    "\n",
    "          epoch_val_loss_set = []\n",
    "\n",
    "          model.eval()\n",
    "\n",
    "          for j, batch in enumerate(tqdm(validation_dataloader)):\n",
    "              batch = tuple(t.to(device) for t in batch)\n",
    "              b_input_ids, b_input_mask, b_labels = batch\n",
    "              \n",
    "  #             val_labels = np.zeros([b_labels.shape[0], n_target])\n",
    "  #             val_preds = np.zeros([b_labels.shape[0], n_target])\n",
    "              \n",
    "              with torch.no_grad():\n",
    "                  pred_probs = model.forward(b_input_ids, b_input_mask)\n",
    "\n",
    "#                   b_labels = b_labels.float().reshape(-1, 1) # удалить при смене\n",
    "\n",
    "                  val_loss = loss(pred_probs, b_labels)\n",
    "                  epoch_val_loss_set.append(val_loss.item())\n",
    "\n",
    "                  b_labels = b_labels.to('cpu').numpy()\n",
    "                  pred_probs = torch.nn.Sigmoid()(pred_probs)\n",
    "                  pred_probs = pred_probs.detach().to('cpu').numpy()\n",
    "                  pred_labels = pred_probs.argmax(axis=1)  # восстановить при смене\n",
    "#                   pred_labels = np.where(pred_probs > 0.5, 1, 0)\n",
    "              \n",
    "              if j == 0:\n",
    "                  all_val_labels = b_labels\n",
    "                  all_val_preds = pred_labels\n",
    "              else:\n",
    "                  all_val_labels = np.hstack([all_val_labels, b_labels])\n",
    "                  all_val_preds = np.hstack([all_val_preds, pred_labels])\n",
    "          \n",
    "          scheduler.step(np.mean(epoch_val_loss_set))\n",
    "          \n",
    "          val_loss_set.extend(epoch_val_loss_set)\n",
    "\n",
    "          val_f1 = f1_score(all_val_labels, all_val_preds, average='weighted')\n",
    "          print(classification_report(all_val_labels, all_val_preds, target_names=label2id.keys()))  \n",
    "          print()\n",
    "          print('Epoch {} ... Val f1: {:.2f} ... Mean val loss: {:.4f}'.format(epoch, val_f1, np.mean(epoch_val_loss_set)))\n",
    "          print()\n",
    "          print('-------------------------------------------------------------------------------------------------------------------------')\n",
    "          print()\n",
    "\n",
    "    return model, loss_set, val_loss_set\n",
    "\n",
    "def plot_losses(train_loss, val_loss):\n",
    "    plt.figure(figsize=(20,5))\n",
    "\n",
    "    fig = plt.figure(1)\n",
    "    axis = fig.add_subplot(1,2,1)\n",
    "    axis.plot(train_loss)\n",
    "    plt.title('Train Loss')\n",
    "\n",
    "    fig = plt.figure(1)\n",
    "    axis = fig.add_subplot(1,2,2)\n",
    "    axis.plot(val_loss)\n",
    "    plt.title('Val Loss')\n",
    "\n",
    "    plt.show()\n",
    "    \n",
    "def avg_loss(loss, parts):\n",
    "    iters = len(loss)\n",
    "    step = iters // parts\n",
    "    avg_loss = []\n",
    "    j = 0\n",
    "    for i in range(parts):\n",
    "        avg_loss.append(np.mean(loss[j: j + step]))\n",
    "        j += step\n",
    "    return avg_loss"
   ]
  },
  {
   "cell_type": "markdown",
   "id": "d3b9c87d",
   "metadata": {},
   "source": [
    "Обучаем первую модель:"
   ]
  },
  {
   "cell_type": "code",
   "execution_count": 35,
   "id": "5bfeb932",
   "metadata": {
    "scrolled": false
   },
   "outputs": [
    {
     "data": {
      "application/vnd.jupyter.widget-view+json": {
       "model_id": "6915332806b6450aa25135586d1479d3",
       "version_major": 2,
       "version_minor": 0
      },
      "text/plain": [
       "  0%|          | 0/4696 [00:00<?, ?it/s]"
      ]
     },
     "metadata": {},
     "output_type": "display_data"
    },
    {
     "name": "stdout",
     "output_type": "stream",
     "text": [
      "                   precision    recall  f1-score   support\n",
      "\n",
      "            Спорт       0.61      0.84      0.70      3310\n",
      "              Мир       0.56      0.62      0.59      6964\n",
      "   Интернет и СМИ       0.42      0.41      0.42      2246\n",
      "           Россия       0.62      0.59      0.60      8179\n",
      "  Наука и техника       0.57      0.52      0.55      2723\n",
      "Силовые структуры       0.18      0.09      0.12      1023\n",
      "      Бывший СССР       0.53      0.57      0.55      2705\n",
      "         Культура       0.67      0.55      0.60      2705\n",
      "        Экономика       0.54      0.59      0.56      4053\n",
      "         Ценности       0.15      0.23      0.18       391\n",
      "         Из жизни       0.34      0.26      0.30      1427\n",
      "              Дом       0.63      0.36      0.46      1118\n",
      "           Бизнес       0.03      0.01      0.02       368\n",
      "      Путешествия       0.02      0.02      0.02       355\n",
      "\n",
      "         accuracy                           0.55     37567\n",
      "        macro avg       0.42      0.40      0.40     37567\n",
      "     weighted avg       0.54      0.55      0.54     37567\n",
      "\n",
      "\n",
      "Epoch 0 ... Train f1: 0.54 ... Mean train loss: 2.3174\n",
      "\n"
     ]
    },
    {
     "data": {
      "application/vnd.jupyter.widget-view+json": {
       "model_id": "3031514741604dd8b2e2b567552aefd0",
       "version_major": 2,
       "version_minor": 0
      },
      "text/plain": [
       "  0%|          | 0/829 [00:00<?, ?it/s]"
      ]
     },
     "metadata": {},
     "output_type": "display_data"
    },
    {
     "name": "stdout",
     "output_type": "stream",
     "text": [
      "                   precision    recall  f1-score   support\n",
      "\n",
      "            Спорт       0.93      0.97      0.95       584\n",
      "              Мир       0.81      0.83      0.82      1229\n",
      "   Интернет и СМИ       0.70      0.79      0.74       397\n",
      "           Россия       0.81      0.81      0.81      1443\n",
      "  Наука и техника       0.81      0.87      0.84       481\n",
      "Силовые структуры       0.63      0.33      0.43       180\n",
      "      Бывший СССР       0.82      0.90      0.86       477\n",
      "         Культура       0.84      0.94      0.88       478\n",
      "        Экономика       0.79      0.89      0.84       715\n",
      "         Ценности       0.81      0.74      0.77        69\n",
      "         Из жизни       0.69      0.47      0.56       252\n",
      "              Дом       0.82      0.66      0.73       197\n",
      "           Бизнес       0.00      0.00      0.00        65\n",
      "      Путешествия       0.85      0.17      0.29        63\n",
      "\n",
      "         accuracy                           0.81      6630\n",
      "        macro avg       0.74      0.67      0.68      6630\n",
      "     weighted avg       0.80      0.81      0.80      6630\n",
      "\n",
      "\n",
      "Epoch 0 ... Val f1: 0.80 ... Mean val loss: 2.0593\n",
      "\n",
      "-------------------------------------------------------------------------------------------------------------------------\n",
      "\n"
     ]
    },
    {
     "name": "stderr",
     "output_type": "stream",
     "text": [
      "/home/nanosemantics/.local/lib/python3.8/site-packages/sklearn/metrics/_classification.py:1221: UndefinedMetricWarning: Precision and F-score are ill-defined and being set to 0.0 in labels with no predicted samples. Use `zero_division` parameter to control this behavior.\n",
      "  _warn_prf(average, modifier, msg_start, len(result))\n"
     ]
    },
    {
     "data": {
      "application/vnd.jupyter.widget-view+json": {
       "model_id": "7d0733bdb9214614bc9eee6cdc450d5b",
       "version_major": 2,
       "version_minor": 0
      },
      "text/plain": [
       "  0%|          | 0/4696 [00:00<?, ?it/s]"
      ]
     },
     "metadata": {},
     "output_type": "display_data"
    },
    {
     "name": "stdout",
     "output_type": "stream",
     "text": [
      "                   precision    recall  f1-score   support\n",
      "\n",
      "            Спорт       0.61      0.96      0.75      3310\n",
      "              Мир       0.60      0.73      0.66      6964\n",
      "   Интернет и СМИ       0.54      0.61      0.57      2246\n",
      "           Россия       0.65      0.66      0.66      8179\n",
      "  Наука и техника       0.72      0.62      0.67      2723\n",
      "Силовые структуры       0.39      0.27      0.32      1023\n",
      "      Бывший СССР       0.80      0.65      0.72      2705\n",
      "         Культура       0.84      0.66      0.74      2705\n",
      "        Экономика       0.75      0.62      0.68      4053\n",
      "         Ценности       0.82      0.52      0.63       391\n",
      "         Из жизни       0.58      0.41      0.48      1427\n",
      "              Дом       0.78      0.54      0.64      1118\n",
      "           Бизнес       0.00      0.00      0.00       368\n",
      "      Путешествия       0.78      0.24      0.36       355\n",
      "\n",
      "         accuracy                           0.66     37567\n",
      "        macro avg       0.63      0.54      0.56     37567\n",
      "     weighted avg       0.66      0.66      0.65     37567\n",
      "\n",
      "\n",
      "Epoch 1 ... Train f1: 0.65 ... Mean train loss: 2.1796\n",
      "\n"
     ]
    },
    {
     "data": {
      "application/vnd.jupyter.widget-view+json": {
       "model_id": "3b44fbd0301144479903f4379b953fe0",
       "version_major": 2,
       "version_minor": 0
      },
      "text/plain": [
       "  0%|          | 0/829 [00:00<?, ?it/s]"
      ]
     },
     "metadata": {},
     "output_type": "display_data"
    },
    {
     "name": "stdout",
     "output_type": "stream",
     "text": [
      "                   precision    recall  f1-score   support\n",
      "\n",
      "            Спорт       0.96      0.96      0.96       584\n",
      "              Мир       0.82      0.84      0.83      1229\n",
      "   Интернет и СМИ       0.73      0.71      0.72       397\n",
      "           Россия       0.80      0.84      0.82      1443\n",
      "  Наука и техника       0.80      0.83      0.82       481\n",
      "Силовые структуры       0.72      0.49      0.58       180\n",
      "      Бывший СССР       0.85      0.86      0.85       477\n",
      "         Культура       0.90      0.88      0.89       478\n",
      "        Экономика       0.78      0.88      0.83       715\n",
      "         Ценности       0.84      0.86      0.85        69\n",
      "         Из жизни       0.77      0.52      0.62       252\n",
      "              Дом       0.75      0.74      0.75       197\n",
      "           Бизнес       0.00      0.00      0.00        65\n",
      "      Путешествия       0.66      0.68      0.67        63\n",
      "\n",
      "         accuracy                           0.82      6630\n",
      "        macro avg       0.74      0.72      0.73      6630\n",
      "     weighted avg       0.81      0.82      0.81      6630\n",
      "\n",
      "\n",
      "Epoch 1 ... Val f1: 0.81 ... Mean val loss: 1.9688\n",
      "\n",
      "-------------------------------------------------------------------------------------------------------------------------\n",
      "\n"
     ]
    },
    {
     "data": {
      "application/vnd.jupyter.widget-view+json": {
       "model_id": "191e56021a6843a49a7930e1a05bab8e",
       "version_major": 2,
       "version_minor": 0
      },
      "text/plain": [
       "  0%|          | 0/4696 [00:00<?, ?it/s]"
      ]
     },
     "metadata": {},
     "output_type": "display_data"
    },
    {
     "name": "stdout",
     "output_type": "stream",
     "text": [
      "                   precision    recall  f1-score   support\n",
      "\n",
      "            Спорт       0.57      0.97      0.72      3310\n",
      "              Мир       0.65      0.76      0.70      6964\n",
      "   Интернет и СМИ       0.56      0.67      0.61      2246\n",
      "           Россия       0.71      0.69      0.70      8179\n",
      "  Наука и техника       0.75      0.66      0.70      2723\n",
      "Силовые структуры       0.50      0.40      0.45      1023\n",
      "      Бывший СССР       0.81      0.67      0.73      2705\n",
      "         Культура       0.88      0.66      0.76      2705\n",
      "        Экономика       0.81      0.64      0.71      4053\n",
      "         Ценности       0.80      0.62      0.70       391\n",
      "         Из жизни       0.70      0.48      0.57      1427\n",
      "              Дом       0.82      0.62      0.71      1118\n",
      "           Бизнес       0.40      0.01      0.01       368\n",
      "      Путешествия       0.71      0.43      0.53       355\n",
      "\n",
      "         accuracy                           0.69     37567\n",
      "        macro avg       0.69      0.59      0.61     37567\n",
      "     weighted avg       0.70      0.69      0.68     37567\n",
      "\n",
      "\n",
      "Epoch 2 ... Train f1: 0.68 ... Mean train loss: 2.1375\n",
      "\n"
     ]
    },
    {
     "data": {
      "application/vnd.jupyter.widget-view+json": {
       "model_id": "ffbf0b438ee84ae5be58e688f3b14e1d",
       "version_major": 2,
       "version_minor": 0
      },
      "text/plain": [
       "  0%|          | 0/829 [00:00<?, ?it/s]"
      ]
     },
     "metadata": {},
     "output_type": "display_data"
    },
    {
     "name": "stdout",
     "output_type": "stream",
     "text": [
      "                   precision    recall  f1-score   support\n",
      "\n",
      "            Спорт       0.96      0.97      0.96       584\n",
      "              Мир       0.80      0.86      0.83      1229\n",
      "   Интернет и СМИ       0.66      0.79      0.72       397\n",
      "           Россия       0.81      0.84      0.82      1443\n",
      "  Наука и техника       0.87      0.78      0.82       481\n",
      "Силовые структуры       0.71      0.61      0.65       180\n",
      "      Бывший СССР       0.81      0.90      0.85       477\n",
      "         Культура       0.89      0.88      0.89       478\n",
      "        Экономика       0.87      0.83      0.85       715\n",
      "         Ценности       0.84      0.83      0.83        69\n",
      "         Из жизни       0.77      0.58      0.66       252\n",
      "              Дом       0.78      0.69      0.73       197\n",
      "           Бизнес       0.00      0.00      0.00        65\n",
      "      Путешествия       0.70      0.63      0.67        63\n",
      "\n",
      "         accuracy                           0.82      6630\n",
      "        macro avg       0.75      0.73      0.74      6630\n",
      "     weighted avg       0.82      0.82      0.82      6630\n",
      "\n",
      "\n",
      "Epoch 2 ... Val f1: 0.82 ... Mean val loss: 1.9268\n",
      "\n",
      "-------------------------------------------------------------------------------------------------------------------------\n",
      "\n"
     ]
    },
    {
     "data": {
      "application/vnd.jupyter.widget-view+json": {
       "model_id": "c8c9b489b52a451db596a1f272156c6b",
       "version_major": 2,
       "version_minor": 0
      },
      "text/plain": [
       "  0%|          | 0/4696 [00:00<?, ?it/s]"
      ]
     },
     "metadata": {},
     "output_type": "display_data"
    },
    {
     "name": "stdout",
     "output_type": "stream",
     "text": [
      "                   precision    recall  f1-score   support\n",
      "\n",
      "            Спорт       0.56      0.98      0.71      3310\n",
      "              Мир       0.67      0.79      0.72      6964\n",
      "   Интернет и СМИ       0.58      0.72      0.64      2246\n",
      "           Россия       0.75      0.69      0.72      8179\n",
      "  Наука и техника       0.77      0.69      0.73      2723\n",
      "Силовые структуры       0.56      0.50      0.53      1023\n",
      "      Бывший СССР       0.85      0.68      0.75      2705\n",
      "         Культура       0.90      0.70      0.79      2705\n",
      "        Экономика       0.82      0.66      0.73      4053\n",
      "         Ценности       0.86      0.65      0.74       391\n",
      "         Из жизни       0.75      0.54      0.63      1427\n",
      "              Дом       0.86      0.63      0.73      1118\n",
      "           Бизнес       0.30      0.08      0.12       368\n",
      "      Путешествия       0.83      0.50      0.62       355\n",
      "\n",
      "         accuracy                           0.71     37567\n",
      "        macro avg       0.72      0.63      0.66     37567\n",
      "     weighted avg       0.73      0.71      0.71     37567\n",
      "\n",
      "\n",
      "Epoch 3 ... Train f1: 0.71 ... Mean train loss: 2.1149\n",
      "\n"
     ]
    },
    {
     "data": {
      "application/vnd.jupyter.widget-view+json": {
       "model_id": "a5fc33140dd840e887dc0f292e2fe22e",
       "version_major": 2,
       "version_minor": 0
      },
      "text/plain": [
       "  0%|          | 0/829 [00:00<?, ?it/s]"
      ]
     },
     "metadata": {},
     "output_type": "display_data"
    },
    {
     "name": "stdout",
     "output_type": "stream",
     "text": [
      "                   precision    recall  f1-score   support\n",
      "\n",
      "            Спорт       0.98      0.95      0.96       584\n",
      "              Мир       0.75      0.89      0.82      1229\n",
      "   Интернет и СМИ       0.72      0.80      0.76       397\n",
      "           Россия       0.86      0.77      0.82      1443\n",
      "  Наука и техника       0.87      0.84      0.85       481\n",
      "Силовые структуры       0.72      0.78      0.75       180\n",
      "      Бывший СССР       0.88      0.80      0.84       477\n",
      "         Культура       0.89      0.90      0.89       478\n",
      "        Экономика       0.84      0.87      0.85       715\n",
      "         Ценности       0.87      0.84      0.85        69\n",
      "         Из жизни       0.66      0.58      0.62       252\n",
      "              Дом       0.77      0.75      0.76       197\n",
      "           Бизнес       1.00      0.09      0.17        65\n",
      "      Путешествия       0.69      0.75      0.72        63\n",
      "\n",
      "         accuracy                           0.82      6630\n",
      "        macro avg       0.82      0.76      0.76      6630\n",
      "     weighted avg       0.83      0.82      0.82      6630\n",
      "\n",
      "\n",
      "Epoch 3 ... Val f1: 0.82 ... Mean val loss: 1.9114\n",
      "\n",
      "-------------------------------------------------------------------------------------------------------------------------\n",
      "\n"
     ]
    },
    {
     "data": {
      "application/vnd.jupyter.widget-view+json": {
       "model_id": "ca4f840066ba4afb9cd4c09ed5ecc845",
       "version_major": 2,
       "version_minor": 0
      },
      "text/plain": [
       "  0%|          | 0/4696 [00:00<?, ?it/s]"
      ]
     },
     "metadata": {},
     "output_type": "display_data"
    },
    {
     "name": "stdout",
     "output_type": "stream",
     "text": [
      "                   precision    recall  f1-score   support\n",
      "\n",
      "            Спорт       0.55      0.99      0.71      3310\n",
      "              Мир       0.70      0.81      0.75      6964\n",
      "   Интернет и СМИ       0.58      0.75      0.66      2246\n",
      "           Россия       0.79      0.72      0.75      8179\n",
      "  Наука и техника       0.79      0.71      0.75      2723\n",
      "Силовые структуры       0.56      0.53      0.55      1023\n",
      "      Бывший СССР       0.87      0.69      0.77      2705\n",
      "         Культура       0.91      0.68      0.78      2705\n",
      "        Экономика       0.86      0.68      0.76      4053\n",
      "         Ценности       0.86      0.64      0.73       391\n",
      "         Из жизни       0.80      0.58      0.67      1427\n",
      "              Дом       0.89      0.65      0.75      1118\n",
      "           Бизнес       0.43      0.18      0.26       368\n",
      "      Путешествия       0.83      0.54      0.66       355\n",
      "\n",
      "         accuracy                           0.73     37567\n",
      "        macro avg       0.75      0.65      0.68     37567\n",
      "     weighted avg       0.76      0.73      0.73     37567\n",
      "\n",
      "\n",
      "Epoch 4 ... Train f1: 0.73 ... Mean train loss: 2.0979\n",
      "\n"
     ]
    },
    {
     "data": {
      "application/vnd.jupyter.widget-view+json": {
       "model_id": "d52c38d71d854647969dd6cdab580ae3",
       "version_major": 2,
       "version_minor": 0
      },
      "text/plain": [
       "  0%|          | 0/829 [00:00<?, ?it/s]"
      ]
     },
     "metadata": {},
     "output_type": "display_data"
    },
    {
     "name": "stdout",
     "output_type": "stream",
     "text": [
      "                   precision    recall  f1-score   support\n",
      "\n",
      "            Спорт       0.96      0.95      0.96       584\n",
      "              Мир       0.79      0.85      0.82      1229\n",
      "   Интернет и СМИ       0.76      0.73      0.74       397\n",
      "           Россия       0.87      0.76      0.81      1443\n",
      "  Наука и техника       0.82      0.87      0.85       481\n",
      "Силовые структуры       0.59      0.83      0.69       180\n",
      "      Бывший СССР       0.82      0.90      0.86       477\n",
      "         Культура       0.90      0.85      0.87       478\n",
      "        Экономика       0.81      0.87      0.84       715\n",
      "         Ценности       0.88      0.84      0.86        69\n",
      "         Из жизни       0.59      0.63      0.61       252\n",
      "              Дом       0.74      0.75      0.75       197\n",
      "           Бизнес       0.00      0.00      0.00        65\n",
      "      Путешествия       0.77      0.57      0.65        63\n",
      "\n",
      "         accuracy                           0.82      6630\n",
      "        macro avg       0.74      0.74      0.74      6630\n",
      "     weighted avg       0.81      0.82      0.81      6630\n",
      "\n",
      "\n",
      "Epoch 4 ... Val f1: 0.81 ... Mean val loss: 1.9075\n",
      "\n",
      "-------------------------------------------------------------------------------------------------------------------------\n",
      "\n"
     ]
    },
    {
     "data": {
      "application/vnd.jupyter.widget-view+json": {
       "model_id": "6ce29dbcb7f849019defd69114ab931d",
       "version_major": 2,
       "version_minor": 0
      },
      "text/plain": [
       "  0%|          | 0/4696 [00:00<?, ?it/s]"
      ]
     },
     "metadata": {},
     "output_type": "display_data"
    },
    {
     "name": "stdout",
     "output_type": "stream",
     "text": [
      "                   precision    recall  f1-score   support\n",
      "\n",
      "            Спорт       0.55      0.99      0.71      3310\n",
      "              Мир       0.70      0.83      0.76      6964\n",
      "   Интернет и СМИ       0.59      0.77      0.67      2246\n",
      "           Россия       0.81      0.72      0.76      8179\n",
      "  Наука и техника       0.80      0.71      0.75      2723\n",
      "Силовые структуры       0.61      0.58      0.59      1023\n",
      "      Бывший СССР       0.87      0.68      0.76      2705\n",
      "         Культура       0.92      0.72      0.81      2705\n",
      "        Экономика       0.87      0.67      0.76      4053\n",
      "         Ценности       0.88      0.59      0.71       391\n",
      "         Из жизни       0.83      0.58      0.68      1427\n",
      "              Дом       0.88      0.65      0.75      1118\n",
      "           Бизнес       0.58      0.24      0.34       368\n",
      "      Путешествия       0.84      0.53      0.65       355\n",
      "\n",
      "         accuracy                           0.74     37567\n",
      "        macro avg       0.77      0.66      0.69     37567\n",
      "     weighted avg       0.77      0.74      0.74     37567\n",
      "\n",
      "\n",
      "Epoch 5 ... Train f1: 0.74 ... Mean train loss: 2.0876\n",
      "\n"
     ]
    },
    {
     "data": {
      "application/vnd.jupyter.widget-view+json": {
       "model_id": "151b5612005d4593b384407784aaaf3e",
       "version_major": 2,
       "version_minor": 0
      },
      "text/plain": [
       "  0%|          | 0/829 [00:00<?, ?it/s]"
      ]
     },
     "metadata": {},
     "output_type": "display_data"
    },
    {
     "name": "stdout",
     "output_type": "stream",
     "text": [
      "                   precision    recall  f1-score   support\n",
      "\n",
      "            Спорт       0.96      0.97      0.97       584\n",
      "              Мир       0.82      0.85      0.84      1229\n",
      "   Интернет и СМИ       0.77      0.74      0.75       397\n",
      "           Россия       0.81      0.84      0.83      1443\n",
      "  Наука и техника       0.85      0.86      0.86       481\n",
      "Силовые структуры       0.76      0.54      0.63       180\n",
      "      Бывший СССР       0.82      0.92      0.86       477\n",
      "         Культура       0.89      0.91      0.90       478\n",
      "        Экономика       0.83      0.86      0.85       715\n",
      "         Ценности       0.92      0.83      0.87        69\n",
      "         Из жизни       0.73      0.55      0.63       252\n",
      "              Дом       0.82      0.74      0.78       197\n",
      "           Бизнес       0.50      0.03      0.06        65\n",
      "      Путешествия       0.66      0.76      0.71        63\n",
      "\n",
      "         accuracy                           0.83      6630\n",
      "        macro avg       0.80      0.74      0.75      6630\n",
      "     weighted avg       0.83      0.83      0.83      6630\n",
      "\n",
      "\n",
      "Epoch 5 ... Val f1: 0.83 ... Mean val loss: 1.8956\n",
      "\n",
      "-------------------------------------------------------------------------------------------------------------------------\n",
      "\n"
     ]
    }
   ],
   "source": [
    "n_epochs = 6\n",
    "lr = 1e-5\n",
    "\n",
    "model_0, loss_set, val_loss_set = train_bert(model = my_model, \n",
    "                                            n_model = 0,\n",
    "                                            n_epochs = n_epochs, \n",
    "                                            train_dataloader = train_dataloader, \n",
    "                                            validation_dataloader = validation_dataloader,\n",
    "                                            lr = lr)"
   ]
  },
  {
   "cell_type": "markdown",
   "id": "4e0fbe4c",
   "metadata": {},
   "source": [
    "Лосс падает отлично, наилучшее качество на валидации = 0.83"
   ]
  },
  {
   "cell_type": "code",
   "execution_count": 81,
   "id": "07c3b767",
   "metadata": {},
   "outputs": [
    {
     "data": {
      "image/png": "[encoded data removed]",
      "text/plain": [
       "<Figure size 1440x360 with 2 Axes>"
      ]
     },
     "metadata": {
      "needs_background": "light"
     },
     "output_type": "display_data"
    }
   ],
   "source": [
    "plot_losses(loss_set, val_loss_set)"
   ]
  },
  {
   "cell_type": "markdown",
   "id": "7bac48cc",
   "metadata": {},
   "source": [
    "Посмотрим на усредненный лосс:"
   ]
  },
  {
   "cell_type": "code",
   "execution_count": 42,
   "id": "d16986ec",
   "metadata": {},
   "outputs": [
    {
     "data": {
      "image/png": "[encoded data removed]",
      "text/plain": [
       "<Figure size 1440x360 with 2 Axes>"
      ]
     },
     "metadata": {
      "needs_background": "light"
     },
     "output_type": "display_data"
    }
   ],
   "source": [
    "parts_to_div = 10\n",
    "\n",
    "plot_losses(avg_loss(loss_set, parts_to_div), avg_loss(val_loss_set, parts_to_div))"
   ]
  },
  {
   "cell_type": "markdown",
   "id": "64044df1",
   "metadata": {},
   "source": [
    "Берем еще один Берт - cointegrated/rubert-tiny, отличающийся в разы от предыдущей версии по размеру, что скорее всего даст ухудшение в качестве, оценим какое и критичное ли. Т.к. в некоторых задачах стоит вопрос увеличения скорости инференса, и снижения характеристик сервера, на котором данная модель будет использоваться, то выбор модели порой является достаточно важным вопросом."
   ]
  },
  {
   "cell_type": "code",
   "execution_count": 43,
   "id": "6db4caa9",
   "metadata": {},
   "outputs": [],
   "source": [
    "tokenizer = BertTokenizer.from_pretrained(\"cointegrated/rubert-tiny\")"
   ]
  },
  {
   "cell_type": "code",
   "execution_count": 44,
   "id": "8fb0a898",
   "metadata": {},
   "outputs": [
    {
     "data": {
      "application/vnd.jupyter.widget-view+json": {
       "model_id": "dccd30a5794f440cbeabbafadff76e4d",
       "version_major": 2,
       "version_minor": 0
      },
      "text/plain": [
       "  0%|          | 0/37567 [00:00<?, ?it/s]"
      ]
     },
     "metadata": {},
     "output_type": "display_data"
    },
    {
     "data": {
      "application/vnd.jupyter.widget-view+json": {
       "model_id": "ee1e2bf711104e438c70c72230b63b92",
       "version_major": 2,
       "version_minor": 0
      },
      "text/plain": [
       "  0%|          | 0/6630 [00:00<?, ?it/s]"
      ]
     },
     "metadata": {},
     "output_type": "display_data"
    }
   ],
   "source": [
    "tokenized_texts = [tokenizer.tokenize(sent) for sent in tqdm(x_train)]\n",
    "val_tokenized_texts = [tokenizer.tokenize(sent) for sent in tqdm(x_val)]"
   ]
  },
  {
   "cell_type": "code",
   "execution_count": 45,
   "id": "e65a7394",
   "metadata": {},
   "outputs": [
    {
     "data": {
      "application/vnd.jupyter.widget-view+json": {
       "model_id": "c8217eeee1df4688b95ce304c2db9c11",
       "version_major": 2,
       "version_minor": 0
      },
      "text/plain": [
       "  0%|          | 0/37567 [00:00<?, ?it/s]"
      ]
     },
     "metadata": {},
     "output_type": "display_data"
    },
    {
     "data": {
      "application/vnd.jupyter.widget-view+json": {
       "model_id": "23be3d947a2648d0847fe6d96e8b00e5",
       "version_major": 2,
       "version_minor": 0
      },
      "text/plain": [
       "  0%|          | 0/6630 [00:00<?, ?it/s]"
      ]
     },
     "metadata": {},
     "output_type": "display_data"
    }
   ],
   "source": [
    "train_inputs = [tokenizer.convert_tokens_to_ids(x) for x in tqdm(tokenized_texts)]\n",
    "\n",
    "train_inputs = pad_sequences(train_inputs, \n",
    "                          dtype='long', \n",
    "                          padding='post', \n",
    "                          truncating='post')\n",
    "\n",
    "train_masks = [[float(i>0) for i in seq] for seq in train_inputs]\n",
    "\n",
    "validation_inputs = [tokenizer.convert_tokens_to_ids(x) for x in tqdm(val_tokenized_texts)]\n",
    "\n",
    "validation_inputs = pad_sequences(validation_inputs, \n",
    "                          dtype='long', \n",
    "                          padding='post', \n",
    "                          truncating='post')\n",
    "\n",
    "validation_masks = [[float(i>0) for i in seq] for seq in validation_inputs]\n",
    "\n",
    "train_labels, validation_labels = np.array(y_train), np.array(y_val)\n",
    "\n",
    "train_inputs = torch.tensor(train_inputs)\n",
    "train_labels = torch.tensor(train_labels)\n",
    "train_masks = torch.tensor(train_masks)\n",
    "\n",
    "validation_inputs = torch.tensor(validation_inputs)\n",
    "validation_labels = torch.tensor(validation_labels)\n",
    "validation_masks = torch.tensor(validation_masks)\n",
    "\n",
    "train_data = torch.utils.data.TensorDataset(train_inputs, train_masks, train_labels)\n",
    "train_dataloader = torch.utils.data.DataLoader(\n",
    "    train_data,\n",
    "    batch_size=8,\n",
    "    sampler=torch.utils.data.RandomSampler(train_data)\n",
    ")\n",
    "\n",
    "validation_data = torch.utils.data.TensorDataset(validation_inputs, validation_masks, validation_labels)\n",
    "validation_dataloader = torch.utils.data.DataLoader(\n",
    "    validation_data,\n",
    "    batch_size=8,\n",
    "    sampler=torch.utils.data.SequentialSampler(validation_data)\n",
    ")"
   ]
  },
  {
   "cell_type": "markdown",
   "id": "9a8852e0",
   "metadata": {},
   "source": [
    "Класс модели, немного изменим его архитектуру, сделаем чуть проще, чем предыдущая модель - убрали 1 линейный слой, увеличили значение вероятности dropout, убрали функцию активации Relu:"
   ]
  },
  {
   "cell_type": "code",
   "execution_count": 62,
   "id": "77237a7d",
   "metadata": {},
   "outputs": [
    {
     "name": "stderr",
     "output_type": "stream",
     "text": [
      "Some weights of the model checkpoint at cointegrated/rubert-tiny were not used when initializing BertModel: ['cls.seq_relationship.weight', 'cls.seq_relationship.bias', 'cls.predictions.transform.LayerNorm.weight', 'cls.predictions.decoder.weight', 'cls.predictions.transform.dense.bias', 'cls.predictions.transform.LayerNorm.bias', 'cls.predictions.transform.dense.weight', 'cls.predictions.bias', 'cls.predictions.decoder.bias']\n",
      "- This IS expected if you are initializing BertModel from the checkpoint of a model trained on another task or with another architecture (e.g. initializing a BertForSequenceClassification model from a BertForPreTraining model).\n",
      "- This IS NOT expected if you are initializing BertModel from the checkpoint of a model that you expect to be exactly identical (initializing a BertForSequenceClassification model from a BertForSequenceClassification model).\n"
     ]
    }
   ],
   "source": [
    "class myBertModel2(torch.nn.Module):\n",
    "    def __init__(self, hidden_neurons, num_labels):\n",
    "        super(myBertModel2, self).__init__()\n",
    "        self.num_labels = num_labels\n",
    "        config = BertConfig.from_pretrained('cointegrated/rubert-tiny', num_labels=self.num_labels)\n",
    "        self.model = BertModel.from_pretrained('cointegrated/rubert-tiny', config=config)\n",
    "        self.hidden_neurons = hidden_neurons\n",
    "        self.linear = torch.nn.Linear(config.hidden_size, int(self.hidden_neurons / 2))\n",
    "        self.classifier = torch.nn.Linear(int(self.hidden_neurons / 2), self.num_labels)\n",
    "        self.activation = torch.nn.Sigmoid()\n",
    "        self.dropout = torch.nn.Dropout(.5)\n",
    "        self.batchnorm = torch.nn.BatchNorm1d(int(self.hidden_neurons / 2))\n",
    "\n",
    "    def forward(self, input_ids, attention_mask):\n",
    "        bert_output = self.model(input_ids=input_ids, attention_mask=attention_mask)\n",
    "        seq_output = bert_output[0]\n",
    "        pooled_output = seq_output.mean(axis=1)\n",
    "        pooled_output = self.dropout(pooled_output)\n",
    "        x1 = self.dropout(self.batchnorm(self.linear(pooled_output)))\n",
    "        scores = self.dropout(self.classifier(x1))\n",
    "        scores = self.activation(scores)\n",
    "        return scores\n",
    "\n",
    "my_model2 = myBertModel2(hidden_neurons=512, num_labels=num_labels)"
   ]
  },
  {
   "cell_type": "markdown",
   "id": "10ca9c89",
   "metadata": {},
   "source": [
    "Увеличим лосс на порядок, в остальном train loop остается без изменений:"
   ]
  },
  {
   "cell_type": "code",
   "execution_count": 63,
   "id": "78c7645c",
   "metadata": {
    "scrolled": false
   },
   "outputs": [
    {
     "data": {
      "application/vnd.jupyter.widget-view+json": {
       "model_id": "ebd9329f543c4c4fa5786bcdf7ae5247",
       "version_major": 2,
       "version_minor": 0
      },
      "text/plain": [
       "  0%|          | 0/4696 [00:00<?, ?it/s]"
      ]
     },
     "metadata": {},
     "output_type": "display_data"
    },
    {
     "name": "stdout",
     "output_type": "stream",
     "text": [
      "                   precision    recall  f1-score   support\n",
      "\n",
      "            Спорт       0.46      0.58      0.51      3310\n",
      "              Мир       0.48      0.42      0.45      6964\n",
      "   Интернет и СМИ       0.28      0.28      0.28      2246\n",
      "           Россия       0.51      0.37      0.43      8179\n",
      "  Наука и техника       0.36      0.35      0.36      2723\n",
      "Силовые структуры       0.11      0.16      0.13      1023\n",
      "      Бывший СССР       0.30      0.32      0.31      2705\n",
      "         Культура       0.35      0.39      0.37      2705\n",
      "        Экономика       0.44      0.39      0.41      4053\n",
      "         Ценности       0.03      0.07      0.05       391\n",
      "         Из жизни       0.15      0.18      0.16      1427\n",
      "              Дом       0.12      0.17      0.14      1118\n",
      "           Бизнес       0.03      0.07      0.05       368\n",
      "      Путешествия       0.03      0.05      0.04       355\n",
      "\n",
      "         accuracy                           0.36     37567\n",
      "        macro avg       0.26      0.27      0.26     37567\n",
      "     weighted avg       0.39      0.36      0.37     37567\n",
      "\n",
      "\n",
      "Epoch 0 ... Train f1: 0.37 ... Mean train loss: 2.4219\n",
      "\n"
     ]
    },
    {
     "data": {
      "application/vnd.jupyter.widget-view+json": {
       "model_id": "0af1ef3e1dba492dad61ba2aa8c4186d",
       "version_major": 2,
       "version_minor": 0
      },
      "text/plain": [
       "  0%|          | 0/829 [00:00<?, ?it/s]"
      ]
     },
     "metadata": {},
     "output_type": "display_data"
    },
    {
     "name": "stdout",
     "output_type": "stream",
     "text": [
      "                   precision    recall  f1-score   support\n",
      "\n",
      "            Спорт       0.93      0.92      0.93       584\n",
      "              Мир       0.58      0.89      0.70      1229\n",
      "   Интернет и СМИ       0.63      0.42      0.50       397\n",
      "           Россия       0.65      0.79      0.72      1443\n",
      "  Наука и техника       0.80      0.59      0.68       481\n",
      "Силовые структуры       0.75      0.03      0.06       180\n",
      "      Бывший СССР       0.70      0.75      0.72       477\n",
      "         Культура       0.77      0.80      0.78       478\n",
      "        Экономика       0.68      0.70      0.69       715\n",
      "         Ценности       0.00      0.00      0.00        69\n",
      "         Из жизни       0.54      0.05      0.09       252\n",
      "              Дом       0.08      0.01      0.01       197\n",
      "           Бизнес       0.00      0.00      0.00        65\n",
      "      Путешествия       0.00      0.00      0.00        63\n",
      "\n",
      "         accuracy                           0.68      6630\n",
      "        macro avg       0.51      0.42      0.42      6630\n",
      "     weighted avg       0.65      0.68      0.63      6630\n",
      "\n",
      "\n",
      "Epoch 0 ... Val f1: 0.63 ... Mean val loss: 2.0796\n",
      "\n",
      "-------------------------------------------------------------------------------------------------------------------------\n",
      "\n"
     ]
    },
    {
     "data": {
      "application/vnd.jupyter.widget-view+json": {
       "model_id": "fdd07494f7ea4dccaba9d5b0c9aeca75",
       "version_major": 2,
       "version_minor": 0
      },
      "text/plain": [
       "  0%|          | 0/4696 [00:00<?, ?it/s]"
      ]
     },
     "metadata": {},
     "output_type": "display_data"
    },
    {
     "name": "stdout",
     "output_type": "stream",
     "text": [
      "                   precision    recall  f1-score   support\n",
      "\n",
      "            Спорт       0.41      0.88      0.56      3310\n",
      "              Мир       0.46      0.55      0.50      6964\n",
      "   Интернет и СМИ       0.34      0.37      0.36      2246\n",
      "           Россия       0.52      0.46      0.48      8179\n",
      "  Наука и техника       0.52      0.39      0.45      2723\n",
      "Силовые структуры       0.25      0.21      0.23      1023\n",
      "      Бывший СССР       0.53      0.39      0.45      2705\n",
      "         Культура       0.62      0.45      0.52      2705\n",
      "        Экономика       0.52      0.42      0.47      4053\n",
      "         Ценности       0.35      0.18      0.24       391\n",
      "         Из жизни       0.27      0.21      0.24      1427\n",
      "              Дом       0.34      0.24      0.28      1118\n",
      "           Бизнес       0.18      0.07      0.10       368\n",
      "      Путешествия       0.29      0.10      0.14       355\n",
      "\n",
      "         accuracy                           0.46     37567\n",
      "        macro avg       0.40      0.35      0.36     37567\n",
      "     weighted avg       0.47      0.46      0.45     37567\n",
      "\n",
      "\n",
      "Epoch 1 ... Train f1: 0.45 ... Mean train loss: 2.3253\n",
      "\n"
     ]
    },
    {
     "data": {
      "application/vnd.jupyter.widget-view+json": {
       "model_id": "41f554d0bbe145f5a9e5c46cd87b27de",
       "version_major": 2,
       "version_minor": 0
      },
      "text/plain": [
       "  0%|          | 0/829 [00:00<?, ?it/s]"
      ]
     },
     "metadata": {},
     "output_type": "display_data"
    },
    {
     "name": "stdout",
     "output_type": "stream",
     "text": [
      "                   precision    recall  f1-score   support\n",
      "\n",
      "            Спорт       0.95      0.91      0.93       584\n",
      "              Мир       0.80      0.72      0.75      1229\n",
      "   Интернет и СМИ       0.57      0.62      0.59       397\n",
      "           Россия       0.70      0.82      0.75      1443\n",
      "  Наука и техника       0.63      0.87      0.73       481\n",
      "Силовые структуры       0.73      0.11      0.18       180\n",
      "      Бывший СССР       0.73      0.80      0.77       477\n",
      "         Культура       0.75      0.87      0.81       478\n",
      "        Экономика       0.78      0.82      0.80       715\n",
      "         Ценности       0.75      0.30      0.43        69\n",
      "         Из жизни       0.72      0.33      0.46       252\n",
      "              Дом       0.78      0.51      0.62       197\n",
      "           Бизнес       0.00      0.00      0.00        65\n",
      "      Путешествия       0.71      0.35      0.47        63\n",
      "\n",
      "         accuracy                           0.74      6630\n",
      "        macro avg       0.68      0.57      0.59      6630\n",
      "     weighted avg       0.74      0.74      0.72      6630\n",
      "\n",
      "\n",
      "Epoch 1 ... Val f1: 0.72 ... Mean val loss: 1.9883\n",
      "\n",
      "-------------------------------------------------------------------------------------------------------------------------\n",
      "\n"
     ]
    },
    {
     "data": {
      "application/vnd.jupyter.widget-view+json": {
       "model_id": "6078642bd3814033b6b2aaa97c7feafd",
       "version_major": 2,
       "version_minor": 0
      },
      "text/plain": [
       "  0%|          | 0/4696 [00:00<?, ?it/s]"
      ]
     },
     "metadata": {},
     "output_type": "display_data"
    },
    {
     "name": "stdout",
     "output_type": "stream",
     "text": [
      "                   precision    recall  f1-score   support\n",
      "\n",
      "            Спорт       0.35      0.92      0.51      3310\n",
      "              Мир       0.48      0.57      0.52      6964\n",
      "   Интернет и СМИ       0.37      0.40      0.38      2246\n",
      "           Россия       0.55      0.46      0.50      8179\n",
      "  Наука и техника       0.61      0.45      0.52      2723\n",
      "Силовые структуры       0.32      0.25      0.28      1023\n",
      "      Бывший СССР       0.65      0.43      0.52      2705\n",
      "         Культура       0.73      0.45      0.56      2705\n",
      "        Экономика       0.63      0.43      0.51      4053\n",
      "         Ценности       0.55      0.30      0.39       391\n",
      "         Из жизни       0.41      0.29      0.34      1427\n",
      "              Дом       0.58      0.36      0.44      1118\n",
      "           Бизнес       0.20      0.10      0.13       368\n",
      "      Путешествия       0.44      0.15      0.22       355\n",
      "\n",
      "         accuracy                           0.49     37567\n",
      "        macro avg       0.49      0.40      0.42     37567\n",
      "     weighted avg       0.53      0.49      0.48     37567\n",
      "\n",
      "\n",
      "Epoch 2 ... Train f1: 0.48 ... Mean train loss: 2.2993\n",
      "\n"
     ]
    },
    {
     "data": {
      "application/vnd.jupyter.widget-view+json": {
       "model_id": "96c05813dddb43e6989116c5df650709",
       "version_major": 2,
       "version_minor": 0
      },
      "text/plain": [
       "  0%|          | 0/829 [00:00<?, ?it/s]"
      ]
     },
     "metadata": {},
     "output_type": "display_data"
    },
    {
     "name": "stdout",
     "output_type": "stream",
     "text": [
      "                   precision    recall  f1-score   support\n",
      "\n",
      "            Спорт       0.96      0.92      0.94       584\n",
      "              Мир       0.75      0.82      0.78      1229\n",
      "   Интернет и СМИ       0.74      0.38      0.50       397\n",
      "           Россия       0.75      0.78      0.77      1443\n",
      "  Наука и техника       0.68      0.83      0.75       481\n",
      "Силовые структуры       0.66      0.18      0.29       180\n",
      "      Бывший СССР       0.72      0.80      0.76       477\n",
      "         Культура       0.83      0.81      0.82       478\n",
      "        Экономика       0.73      0.85      0.79       715\n",
      "         Ценности       0.40      0.81      0.54        69\n",
      "         Из жизни       0.49      0.50      0.50       252\n",
      "              Дом       0.76      0.59      0.66       197\n",
      "           Бизнес       0.00      0.00      0.00        65\n",
      "      Путешествия       0.73      0.17      0.28        63\n",
      "\n",
      "         accuracy                           0.74      6630\n",
      "        macro avg       0.66      0.60      0.60      6630\n",
      "     weighted avg       0.74      0.74      0.73      6630\n",
      "\n",
      "\n",
      "Epoch 2 ... Val f1: 0.73 ... Mean val loss: 1.9555\n",
      "\n",
      "-------------------------------------------------------------------------------------------------------------------------\n",
      "\n"
     ]
    },
    {
     "data": {
      "application/vnd.jupyter.widget-view+json": {
       "model_id": "2175ec874c6f4a6681b0b4096031d70b",
       "version_major": 2,
       "version_minor": 0
      },
      "text/plain": [
       "  0%|          | 0/4696 [00:00<?, ?it/s]"
      ]
     },
     "metadata": {},
     "output_type": "display_data"
    },
    {
     "name": "stdout",
     "output_type": "stream",
     "text": [
      "                   precision    recall  f1-score   support\n",
      "\n",
      "            Спорт       0.34      0.93      0.50      3310\n",
      "              Мир       0.48      0.60      0.53      6964\n",
      "   Интернет и СМИ       0.40      0.45      0.42      2246\n",
      "           Россия       0.59      0.47      0.52      8179\n",
      "  Наука и техника       0.66      0.46      0.54      2723\n",
      "Силовые структуры       0.38      0.30      0.34      1023\n",
      "      Бывший СССР       0.68      0.43      0.53      2705\n",
      "         Культура       0.77      0.44      0.56      2705\n",
      "        Экономика       0.66      0.45      0.54      4053\n",
      "         Ценности       0.67      0.39      0.50       391\n",
      "         Из жизни       0.44      0.29      0.34      1427\n",
      "              Дом       0.66      0.41      0.51      1118\n",
      "           Бизнес       0.26      0.16      0.20       368\n",
      "      Путешествия       0.52      0.18      0.27       355\n",
      "\n",
      "         accuracy                           0.51     37567\n",
      "        macro avg       0.54      0.43      0.45     37567\n",
      "     weighted avg       0.56      0.51      0.50     37567\n",
      "\n",
      "\n",
      "Epoch 3 ... Train f1: 0.50 ... Mean train loss: 2.2872\n",
      "\n"
     ]
    },
    {
     "data": {
      "application/vnd.jupyter.widget-view+json": {
       "model_id": "bd016af33e4048fd87a0ba15771f0d3a",
       "version_major": 2,
       "version_minor": 0
      },
      "text/plain": [
       "  0%|          | 0/829 [00:00<?, ?it/s]"
      ]
     },
     "metadata": {},
     "output_type": "display_data"
    },
    {
     "name": "stdout",
     "output_type": "stream",
     "text": [
      "                   precision    recall  f1-score   support\n",
      "\n",
      "            Спорт       0.94      0.94      0.94       584\n",
      "              Мир       0.73      0.80      0.76      1229\n",
      "   Интернет и СМИ       0.77      0.31      0.44       397\n",
      "           Россия       0.78      0.73      0.76      1443\n",
      "  Наука и техника       0.64      0.89      0.74       481\n",
      "Силовые структуры       0.57      0.42      0.48       180\n",
      "      Бывший СССР       0.80      0.75      0.78       477\n",
      "         Культура       0.81      0.88      0.85       478\n",
      "        Экономика       0.65      0.91      0.76       715\n",
      "         Ценности       0.58      0.81      0.67        69\n",
      "         Из жизни       0.59      0.35      0.44       252\n",
      "              Дом       0.74      0.63      0.68       197\n",
      "           Бизнес       0.00      0.00      0.00        65\n",
      "      Путешествия       0.72      0.33      0.46        63\n",
      "\n",
      "         accuracy                           0.74      6630\n",
      "        macro avg       0.67      0.62      0.63      6630\n",
      "     weighted avg       0.74      0.74      0.73      6630\n",
      "\n",
      "\n",
      "Epoch 3 ... Val f1: 0.73 ... Mean val loss: 1.9495\n",
      "\n",
      "-------------------------------------------------------------------------------------------------------------------------\n",
      "\n"
     ]
    },
    {
     "data": {
      "application/vnd.jupyter.widget-view+json": {
       "model_id": "ece4a54c5dd049a5ab7c7b8670cfd92a",
       "version_major": 2,
       "version_minor": 0
      },
      "text/plain": [
       "  0%|          | 0/4696 [00:00<?, ?it/s]"
      ]
     },
     "metadata": {},
     "output_type": "display_data"
    },
    {
     "name": "stdout",
     "output_type": "stream",
     "text": [
      "                   precision    recall  f1-score   support\n",
      "\n",
      "            Спорт       0.34      0.94      0.50      3310\n",
      "              Мир       0.49      0.61      0.54      6964\n",
      "   Интернет и СМИ       0.39      0.43      0.41      2246\n",
      "           Россия       0.60      0.47      0.53      8179\n",
      "  Наука и техника       0.69      0.46      0.55      2723\n",
      "Силовые структуры       0.41      0.29      0.34      1023\n",
      "      Бывший СССР       0.68      0.45      0.54      2705\n",
      "         Культура       0.77      0.47      0.58      2705\n",
      "        Экономика       0.67      0.43      0.53      4053\n",
      "         Ценности       0.67      0.39      0.49       391\n",
      "         Из жизни       0.49      0.32      0.39      1427\n",
      "              Дом       0.70      0.39      0.50      1118\n",
      "           Бизнес       0.35      0.18      0.24       368\n",
      "      Путешествия       0.54      0.27      0.36       355\n",
      "\n",
      "         accuracy                           0.51     37567\n",
      "        macro avg       0.56      0.44      0.46     37567\n",
      "     weighted avg       0.57      0.51      0.51     37567\n",
      "\n",
      "\n",
      "Epoch 4 ... Train f1: 0.51 ... Mean train loss: 2.2820\n",
      "\n"
     ]
    },
    {
     "data": {
      "application/vnd.jupyter.widget-view+json": {
       "model_id": "9b4a9c00d3b44ac690d6ee8210f388a8",
       "version_major": 2,
       "version_minor": 0
      },
      "text/plain": [
       "  0%|          | 0/829 [00:00<?, ?it/s]"
      ]
     },
     "metadata": {},
     "output_type": "display_data"
    },
    {
     "name": "stdout",
     "output_type": "stream",
     "text": [
      "                   precision    recall  f1-score   support\n",
      "\n",
      "            Спорт       0.90      0.95      0.93       584\n",
      "              Мир       0.76      0.78      0.77      1229\n",
      "   Интернет и СМИ       0.64      0.64      0.64       397\n",
      "           Россия       0.74      0.76      0.75      1443\n",
      "  Наука и техника       0.83      0.76      0.79       481\n",
      "Силовые структуры       0.63      0.37      0.47       180\n",
      "      Бывший СССР       0.85      0.65      0.74       477\n",
      "         Культура       0.74      0.90      0.82       478\n",
      "        Экономика       0.70      0.87      0.78       715\n",
      "         Ценности       0.87      0.68      0.76        69\n",
      "         Из жизни       0.74      0.31      0.44       252\n",
      "              Дом       0.65      0.69      0.67       197\n",
      "           Бизнес       0.30      0.22      0.25        65\n",
      "      Путешествия       0.50      0.60      0.55        63\n",
      "\n",
      "         accuracy                           0.75      6630\n",
      "        macro avg       0.70      0.66      0.67      6630\n",
      "     weighted avg       0.75      0.75      0.74      6630\n",
      "\n",
      "\n",
      "Epoch 4 ... Val f1: 0.74 ... Mean val loss: 1.9366\n",
      "\n",
      "-------------------------------------------------------------------------------------------------------------------------\n",
      "\n"
     ]
    },
    {
     "data": {
      "application/vnd.jupyter.widget-view+json": {
       "model_id": "8d92fd2728c04ede8c9092fa34c22b62",
       "version_major": 2,
       "version_minor": 0
      },
      "text/plain": [
       "  0%|          | 0/4696 [00:00<?, ?it/s]"
      ]
     },
     "metadata": {},
     "output_type": "display_data"
    },
    {
     "name": "stdout",
     "output_type": "stream",
     "text": [
      "                   precision    recall  f1-score   support\n",
      "\n",
      "            Спорт       0.32      0.94      0.48      3310\n",
      "              Мир       0.50      0.62      0.56      6964\n",
      "   Интернет и СМИ       0.40      0.48      0.44      2246\n",
      "           Россия       0.61      0.47      0.53      8179\n",
      "  Наука и техника       0.71      0.46      0.56      2723\n",
      "Силовые структуры       0.47      0.33      0.39      1023\n",
      "      Бывший СССР       0.71      0.43      0.54      2705\n",
      "         Культура       0.78      0.46      0.58      2705\n",
      "        Экономика       0.72      0.44      0.55      4053\n",
      "         Ценности       0.71      0.45      0.55       391\n",
      "         Из жизни       0.51      0.36      0.42      1427\n",
      "              Дом       0.72      0.41      0.52      1118\n",
      "           Бизнес       0.28      0.16      0.20       368\n",
      "      Путешествия       0.62      0.27      0.37       355\n",
      "\n",
      "         accuracy                           0.52     37567\n",
      "        macro avg       0.58      0.45      0.48     37567\n",
      "     weighted avg       0.59      0.52      0.52     37567\n",
      "\n",
      "\n",
      "Epoch 5 ... Train f1: 0.52 ... Mean train loss: 2.2773\n",
      "\n"
     ]
    },
    {
     "data": {
      "application/vnd.jupyter.widget-view+json": {
       "model_id": "18d8d7cfe3064c3b90479cd4b2bb7cf6",
       "version_major": 2,
       "version_minor": 0
      },
      "text/plain": [
       "  0%|          | 0/829 [00:00<?, ?it/s]"
      ]
     },
     "metadata": {},
     "output_type": "display_data"
    },
    {
     "name": "stdout",
     "output_type": "stream",
     "text": [
      "                   precision    recall  f1-score   support\n",
      "\n",
      "            Спорт       0.96      0.92      0.94       584\n",
      "              Мир       0.72      0.83      0.77      1229\n",
      "   Интернет и СМИ       0.69      0.62      0.65       397\n",
      "           Россия       0.77      0.78      0.78      1443\n",
      "  Наука и техника       0.78      0.80      0.79       481\n",
      "Силовые структуры       0.54      0.53      0.53       180\n",
      "      Бывший СССР       0.71      0.89      0.79       477\n",
      "         Культура       0.88      0.80      0.84       478\n",
      "        Экономика       0.80      0.82      0.81       715\n",
      "         Ценности       0.78      0.74      0.76        69\n",
      "         Из жизни       0.75      0.21      0.32       252\n",
      "              Дом       0.75      0.64      0.69       197\n",
      "           Бизнес       0.42      0.22      0.29        65\n",
      "      Путешествия       0.66      0.37      0.47        63\n",
      "\n",
      "         accuracy                           0.77      6630\n",
      "        macro avg       0.73      0.65      0.67      6630\n",
      "     weighted avg       0.77      0.77      0.76      6630\n",
      "\n",
      "\n",
      "Epoch 5 ... Val f1: 0.76 ... Mean val loss: 1.9278\n",
      "\n",
      "-------------------------------------------------------------------------------------------------------------------------\n",
      "\n"
     ]
    }
   ],
   "source": [
    "n_epochs = 6\n",
    "lr = 1e-4\n",
    "\n",
    "model_1, loss_set_1, val_loss_set_1 = train_bert(model = my_model2, \n",
    "                                                 n_model = 1,\n",
    "                                                 n_epochs = n_epochs, \n",
    "                                                 train_dataloader = train_dataloader, \n",
    "                                                 validation_dataloader = validation_dataloader,\n",
    "                                                 lr = lr)"
   ]
  },
  {
   "cell_type": "markdown",
   "id": "7269a96d",
   "metadata": {},
   "source": [
    "Модель обучается достаточно быстро, в этом ее явный плюс, особенно по сравнению с той моделью, которую мы возьмем третьей.\n",
    "\n",
    "Посмотрим на лоссы:"
   ]
  },
  {
   "cell_type": "code",
   "execution_count": 66,
   "id": "208b8dc7",
   "metadata": {},
   "outputs": [
    {
     "data": {
      "image/png": "[encoded data removed]",
      "text/plain": [
       "<Figure size 1440x360 with 2 Axes>"
      ]
     },
     "metadata": {
      "needs_background": "light"
     },
     "output_type": "display_data"
    }
   ],
   "source": [
    "plot_losses(loss_set_1, val_loss_set_1)"
   ]
  },
  {
   "cell_type": "code",
   "execution_count": 67,
   "id": "11634c4b",
   "metadata": {},
   "outputs": [
    {
     "data": {
      "image/png": "[encoded data removed]",
      "text/plain": [
       "<Figure size 1440x360 with 2 Axes>"
      ]
     },
     "metadata": {
      "needs_background": "light"
     },
     "output_type": "display_data"
    }
   ],
   "source": [
    "plot_losses(avg_loss(loss_set_1, parts_to_div), avg_loss(val_loss_set_1, parts_to_div))"
   ]
  },
  {
   "cell_type": "markdown",
   "id": "6fab008e",
   "metadata": {},
   "source": [
    "Лосс падает хорошо, на валидации f1 = 0.76, но на трейне f1 гораздо ниже по сравнению с первой моделью.\n",
    "\n",
    "P.S. пробовал дообучать с меньшим LR еще на шести эпохах, но существенного прироста в качестве не было."
   ]
  },
  {
   "cell_type": "markdown",
   "id": "bc3e9882",
   "metadata": {},
   "source": [
    "Теперь возьмем T5, и будем решать задачу классификации, как задачу условной генерации. Модель самая тяжелая по сравнению с предыдущими, и по идее должна быть самой качественной."
   ]
  },
  {
   "cell_type": "code",
   "execution_count": 13,
   "id": "e4a5bdcb",
   "metadata": {},
   "outputs": [],
   "source": [
    "from transformers import T5ForConditionalGeneration,T5Tokenizer\n",
    "\n",
    "model = T5ForConditionalGeneration.from_pretrained('sberbank-ai/ruT5-large')\n",
    "tokenizer = T5Tokenizer.from_pretrained('sberbank-ai/ruT5-large')"
   ]
  },
  {
   "cell_type": "markdown",
   "id": "2f9e46c9",
   "metadata": {},
   "source": [
    "Перепишем train loop и добавим некоторые вспомогательные функции:"
   ]
  },
  {
   "cell_type": "code",
   "execution_count": 14,
   "id": "d779c11d",
   "metadata": {},
   "outputs": [],
   "source": [
    "def do_eval(evaluation_data, model):\n",
    "    pred_labels, real_labels = [], []\n",
    "    for text, real_label in evaluation_data:\n",
    "        pred_label = generate_label(text, model)\n",
    "        pred_labels.append(pred_label)\n",
    "        real_labels.append(real_label)\n",
    "    return real_labels, pred_labels\n",
    "\n",
    "def generate_label(x, model, **kwargs):\n",
    "    inputs = tokenizer(x, return_tensors='pt').to(model.device) \n",
    "    with torch.no_grad():\n",
    "        hypotheses = model.generate(**inputs, **kwargs)\n",
    "    label = tokenizer.decode(hypotheses[0], skip_special_tokens=True)\n",
    "    return label\n",
    "    \n",
    "def train_t5(model, epochs, train_pairs, val_pairs, batch_size, report_steps, lr):\n",
    "    optimizer = Adafactor(model.parameters(), lr=lr, relative_step=False)    \n",
    "    model.to(device)\n",
    "    \n",
    "    losses = []\n",
    "    val_losses = []\n",
    "\n",
    "    for epoch in range(epochs):\n",
    "        print('EPOCH', epoch)\n",
    "        random.shuffle(train_pairs)\n",
    "        model.train()\n",
    "        optimizer.zero_grad()\n",
    "        for i in tqdm(range(0, int(len(train_pairs) / batch_size))):\n",
    "            batch = train_pairs[i * batch_size: (i + 1) * batch_size]\n",
    "\n",
    "            x = tokenizer([p[0] for p in batch], return_tensors='pt', padding=True).to(model.device)\n",
    "            y = tokenizer([p[1] for p in batch], return_tensors='pt', padding=True).to(model.device)\n",
    "            y.input_ids[y.input_ids == 0] = -100\n",
    "\n",
    "            loss = model(\n",
    "                input_ids=x.input_ids,\n",
    "                attention_mask=x.attention_mask,\n",
    "                labels=y.input_ids,\n",
    "                decoder_attention_mask=y.attention_mask,\n",
    "                return_dict=True\n",
    "            ).loss\n",
    "\n",
    "            loss = loss / 128\n",
    "            loss.backward()\n",
    "\n",
    "            if i % 128 == 0:\n",
    "                optimizer.step()\n",
    "                optimizer.zero_grad()\n",
    "\n",
    "            losses.append(loss.item())\n",
    "\n",
    "            if i % report_steps == 0 and i != 0:\n",
    "                model.eval()\n",
    "                for j in tqdm(range(0, int(len(val_pairs) / batch_size))):\n",
    "                    batch = val_pairs[j * batch_size: (j + 1) * batch_size]\n",
    "                    x = tokenizer([p[0] for p in batch], return_tensors='pt', padding=True).to(model.device)\n",
    "                    y = tokenizer([p[1] for p in batch], return_tensors='pt', padding=True).to(model.device)\n",
    "                    y.input_ids[y.input_ids == 0] = -100\n",
    "\n",
    "                    with torch.no_grad():\n",
    "                        loss = model(\n",
    "                            input_ids=x.input_ids,\n",
    "                            attention_mask=x.attention_mask,\n",
    "                            labels=y.input_ids,\n",
    "                            decoder_attention_mask=y.attention_mask,\n",
    "                            return_dict=True\n",
    "                        ).loss\n",
    "\n",
    "                    val_losses.append(loss.item())\n",
    "                \n",
    "                real_train_labels, pred_train_labels = do_eval(train_pairs[-report_steps:], model)\n",
    "                real_val_labels, pred_val_labels = do_eval(val_pairs, model)\n",
    "                \n",
    "                train_f1 = f1_score(real_train_labels, pred_train_labels, average='weighted')\n",
    "                val_f1 = f1_score(real_val_labels, pred_val_labels, average='weighted')\n",
    "                           \n",
    "                print('Step {} ... Train f1: {:.2f} ... Val f1: {:.2f} ... Mean train loss: {:.4f} ... Mean val loss: {:.4f}'.format(i, train_f1, val_f1, np.mean(losses[-report_steps:]), np.mean(val_losses[-len(val_pairs):])))\n",
    "                print()\n",
    "                print(classification_report(real_train_labels, pred_train_labels)) \n",
    "                print()\n",
    "                print(classification_report(real_val_labels, pred_val_labels)) \n",
    "                print()\n",
    "                    \n",
    "                model.train()\n",
    "                \n",
    "    return model, losses, val_losses"
   ]
  },
  {
   "cell_type": "code",
   "execution_count": 15,
   "id": "93036f72",
   "metadata": {},
   "outputs": [],
   "source": [
    "train_pairs = train.values.tolist()\n",
    "val_pairs = val.values.tolist()"
   ]
  },
  {
   "cell_type": "markdown",
   "id": "8ce0b561",
   "metadata": {},
   "source": [
    "Теперь обучим модель, возьмем 1 эпоху, лосс Adafactor с LR = 1e-3, аккумуляцией градиента до 128 примеров в батче:"
   ]
  },
  {
   "cell_type": "code",
   "execution_count": 16,
   "id": "f5f64c78",
   "metadata": {
    "scrolled": false
   },
   "outputs": [
    {
     "name": "stdout",
     "output_type": "stream",
     "text": [
      "EPOCH 0\n"
     ]
    },
    {
     "data": {
      "application/vnd.jupyter.widget-view+json": {
       "model_id": "127a1cf5f0a04603a1dfabbb29273c4c",
       "version_major": 2,
       "version_minor": 0
      },
      "text/plain": [
       "  0%|          | 0/37567 [00:00<?, ?it/s]"
      ]
     },
     "metadata": {},
     "output_type": "display_data"
    },
    {
     "data": {
      "application/vnd.jupyter.widget-view+json": {
       "model_id": "f68aaf4a0c5c4504bf56dfa0f200a56e",
       "version_major": 2,
       "version_minor": 0
      },
      "text/plain": [
       "  0%|          | 0/6630 [00:00<?, ?it/s]"
      ]
     },
     "metadata": {},
     "output_type": "display_data"
    },
    {
     "name": "stdout",
     "output_type": "stream",
     "text": [
      "Step 6000 ... Train f1: 0.71 ... Val f1: 0.70 ... Mean train loss: 0.0081 ... Mean val loss: 0.3799\n",
      "\n",
      "                   precision    recall  f1-score   support\n",
      "\n",
      "                        0.00      0.00      0.00         0\n",
      "           Бизнес       0.00      0.00      0.00        61\n",
      "      Бывший СССР       0.93      0.48      0.63       422\n",
      "              Дом       0.82      0.55      0.66       172\n",
      "         Из жизни       0.73      0.27      0.39       234\n",
      "   Интернет и СМИ       0.66      0.66      0.66       357\n",
      "         Культура       0.83      0.91      0.87       431\n",
      "              Мир       0.78      0.79      0.79      1113\n",
      "  Наука и техника       0.75      0.84      0.79       440\n",
      "      Путешествия       0.00      0.00      0.00        51\n",
      "           Россия       0.78      0.71      0.75      1270\n",
      "Силовые структуры       0.50      0.07      0.12       142\n",
      "            Спорт       0.95      0.96      0.96       549\n",
      "         Ценности       0.90      0.40      0.55        65\n",
      "        Экономика       0.49      0.97      0.65       693\n",
      "\n",
      "         accuracy                           0.73      6000\n",
      "        macro avg       0.61      0.51      0.52      6000\n",
      "     weighted avg       0.75      0.73      0.71      6000\n",
      "\n",
      "\n",
      "                   precision    recall  f1-score   support\n",
      "\n",
      "           Бизнес       0.00      0.00      0.00        65\n",
      "      Бывший СССР       0.90      0.47      0.62       477\n",
      "              Дом       0.80      0.46      0.58       197\n",
      "         Из жизни       0.72      0.30      0.42       252\n",
      "   Интернет и СМИ       0.67      0.69      0.68       397\n",
      "         Культура       0.82      0.90      0.86       478\n",
      "              Мир       0.76      0.79      0.77      1229\n",
      "  Наука и техника       0.70      0.80      0.75       481\n",
      "      Путешествия       0.00      0.00      0.00        63\n",
      "           Россия       0.77      0.71      0.74      1443\n",
      "Силовые структуры       0.29      0.03      0.06       180\n",
      "            Спорт       0.97      0.95      0.96       584\n",
      "         Ценности       0.97      0.49      0.65        69\n",
      "        Экономика       0.48      0.98      0.64       715\n",
      "\n",
      "         accuracy                           0.72      6630\n",
      "        macro avg       0.63      0.54      0.55      6630\n",
      "     weighted avg       0.73      0.72      0.70      6630\n",
      "\n",
      "\n"
     ]
    },
    {
     "name": "stderr",
     "output_type": "stream",
     "text": [
      "/home/nanosemantics/.local/lib/python3.8/site-packages/sklearn/metrics/_classification.py:1221: UndefinedMetricWarning: Precision and F-score are ill-defined and being set to 0.0 in labels with no predicted samples. Use `zero_division` parameter to control this behavior.\n",
      "  _warn_prf(average, modifier, msg_start, len(result))\n",
      "/home/nanosemantics/.local/lib/python3.8/site-packages/sklearn/metrics/_classification.py:1221: UndefinedMetricWarning: Recall and F-score are ill-defined and being set to 0.0 in labels with no true samples. Use `zero_division` parameter to control this behavior.\n",
      "  _warn_prf(average, modifier, msg_start, len(result))\n"
     ]
    },
    {
     "data": {
      "application/vnd.jupyter.widget-view+json": {
       "model_id": "b2f18711d2934c1b9842e9ed6ddb899d",
       "version_major": 2,
       "version_minor": 0
      },
      "text/plain": [
       "  0%|          | 0/6630 [00:00<?, ?it/s]"
      ]
     },
     "metadata": {},
     "output_type": "display_data"
    },
    {
     "name": "stdout",
     "output_type": "stream",
     "text": [
      "Step 12000 ... Train f1: 0.75 ... Val f1: 0.74 ... Mean train loss: 0.0027 ... Mean val loss: 0.3133\n",
      "\n",
      "                   precision    recall  f1-score   support\n",
      "\n",
      "                        0.00      0.00      0.00         0\n",
      "           Бизнес       0.47      0.11      0.18        61\n",
      "      Бывший СССР       0.80      0.86      0.83       422\n",
      "              Дом       0.85      0.71      0.77       172\n",
      "         Из жизни       0.61      0.46      0.52       234\n",
      "   Интернет и СМИ       0.90      0.41      0.56       357\n",
      "         Культура       0.86      0.88      0.87       431\n",
      "              Мир       0.89      0.67      0.77      1113\n",
      "  Наука и техника       0.73      0.91      0.81       440\n",
      "      Путешествия       0.67      0.24      0.35        51\n",
      "           Россия       0.66      0.92      0.77      1270\n",
      "Силовые структуры       0.57      0.06      0.10       142\n",
      "            Спорт       0.93      0.98      0.95       549\n",
      "         Ценности       0.77      0.66      0.71        65\n",
      "        Экономика       0.76      0.84      0.80       693\n",
      "\n",
      "         accuracy                           0.77      6000\n",
      "        macro avg       0.70      0.58      0.60      6000\n",
      "     weighted avg       0.78      0.77      0.75      6000\n",
      "\n",
      "\n",
      "                   precision    recall  f1-score   support\n",
      "\n",
      "           Бизнес       0.27      0.06      0.10        65\n",
      "      Бывший СССР       0.83      0.87      0.85       477\n",
      "              Дом       0.85      0.64      0.73       197\n",
      "         Из жизни       0.66      0.45      0.54       252\n",
      "   Интернет и СМИ       0.86      0.36      0.51       397\n",
      "         Культура       0.85      0.89      0.87       478\n",
      "              Мир       0.87      0.66      0.75      1229\n",
      "  Наука и техника       0.69      0.88      0.77       481\n",
      "      Путешествия       0.66      0.33      0.44        63\n",
      "           Россия       0.64      0.92      0.75      1443\n",
      "Силовые структуры       0.33      0.03      0.05       180\n",
      "            Спорт       0.95      0.98      0.96       584\n",
      "         Ценности       0.82      0.68      0.75        69\n",
      "        Экономика       0.78      0.87      0.82       715\n",
      "\n",
      "         accuracy                           0.76      6630\n",
      "        macro avg       0.72      0.62      0.64      6630\n",
      "     weighted avg       0.77      0.76      0.74      6630\n",
      "\n",
      "\n"
     ]
    },
    {
     "data": {
      "application/vnd.jupyter.widget-view+json": {
       "model_id": "7d75b95f88b947eabb71b239d9ee8c0d",
       "version_major": 2,
       "version_minor": 0
      },
      "text/plain": [
       "  0%|          | 0/6630 [00:00<?, ?it/s]"
      ]
     },
     "metadata": {},
     "output_type": "display_data"
    },
    {
     "name": "stdout",
     "output_type": "stream",
     "text": [
      "Step 18000 ... Train f1: 0.74 ... Val f1: 0.73 ... Mean train loss: 0.0024 ... Mean val loss: 0.2919\n",
      "\n",
      "                   precision    recall  f1-score   support\n",
      "\n",
      "                        0.00      0.00      0.00         0\n",
      "           Бизнес       0.25      0.08      0.12        61\n",
      "      Бывший СССР       0.84      0.86      0.85       422\n",
      "              Дом       0.79      0.74      0.77       172\n",
      "         Из жизни       0.72      0.23      0.35       234\n",
      "   Интернет и СМИ       0.89      0.33      0.48       357\n",
      "         Культура       0.78      0.93      0.84       431\n",
      "              Мир       0.81      0.74      0.77      1113\n",
      "  Наука и техника       0.88      0.72      0.79       440\n",
      "      Путешествия       1.00      0.06      0.11        51\n",
      "           Россия       0.62      0.94      0.74      1270\n",
      "Силовые структуры       0.50      0.16      0.24       142\n",
      "            Спорт       0.93      0.96      0.95       549\n",
      "         Ценности       0.68      0.83      0.74        65\n",
      "        Экономика       0.84      0.78      0.81       693\n",
      "\n",
      "         accuracy                           0.76      6000\n",
      "        macro avg       0.70      0.56      0.57      6000\n",
      "     weighted avg       0.78      0.76      0.74      6000\n",
      "\n",
      "\n",
      "                   precision    recall  f1-score   support\n",
      "\n",
      "           Бизнес       0.40      0.15      0.22        65\n",
      "           Бывший       0.00      0.00      0.00         0\n",
      "      Бывший СССР       0.81      0.86      0.84       477\n",
      "              Дом       0.80      0.69      0.74       197\n",
      "         Из жизни       0.78      0.31      0.45       252\n",
      "   Интернет и СМИ       0.91      0.28      0.43       397\n",
      "         Культура       0.79      0.93      0.86       478\n",
      "              Мир       0.80      0.73      0.76      1229\n",
      "  Наука и техника       0.87      0.72      0.79       481\n",
      "      Путешествия       0.67      0.06      0.12        63\n",
      "           Россия       0.60      0.94      0.74      1443\n",
      "Силовые структуры       0.52      0.13      0.21       180\n",
      "            Спорт       0.95      0.96      0.96       584\n",
      "         Ценности       0.67      0.78      0.72        69\n",
      "        Экономика       0.85      0.77      0.81       715\n",
      "\n",
      "         accuracy                           0.75      6630\n",
      "        macro avg       0.70      0.55      0.57      6630\n",
      "     weighted avg       0.77      0.75      0.73      6630\n",
      "\n",
      "\n"
     ]
    },
    {
     "data": {
      "application/vnd.jupyter.widget-view+json": {
       "model_id": "7567ed644262420d97636fd773c4ec04",
       "version_major": 2,
       "version_minor": 0
      },
      "text/plain": [
       "  0%|          | 0/6630 [00:00<?, ?it/s]"
      ]
     },
     "metadata": {},
     "output_type": "display_data"
    },
    {
     "name": "stdout",
     "output_type": "stream",
     "text": [
      "Step 24000 ... Train f1: 0.79 ... Val f1: 0.79 ... Mean train loss: 0.0022 ... Mean val loss: 0.2262\n",
      "\n",
      "                   precision    recall  f1-score   support\n",
      "\n",
      "           Бизнес       0.47      0.46      0.46        61\n",
      "      Бывший СССР       0.80      0.90      0.85       422\n",
      "              Дом       0.83      0.81      0.82       172\n",
      "         Из жизни       0.67      0.44      0.53       234\n",
      "   Интернет и СМИ       0.86      0.45      0.59       357\n",
      "         Культура       0.89      0.85      0.87       431\n",
      "              Мир       0.75      0.89      0.81      1113\n",
      "  Наука и техника       0.86      0.81      0.83       440\n",
      "      Путешествия       0.82      0.45      0.58        51\n",
      "           Россия       0.73      0.88      0.80      1270\n",
      "Силовые структуры       0.70      0.40      0.51       142\n",
      "            Спорт       0.99      0.89      0.94       549\n",
      "         Ценности       0.80      0.74      0.77        65\n",
      "        Экономика       0.88      0.77      0.82       693\n",
      "\n",
      "         accuracy                           0.80      6000\n",
      "        macro avg       0.79      0.70      0.73      6000\n",
      "     weighted avg       0.81      0.80      0.79      6000\n",
      "\n",
      "\n",
      "                   precision    recall  f1-score   support\n",
      "\n",
      "           Бизнес       0.44      0.40      0.42        65\n",
      "      Бывший СССР       0.81      0.90      0.85       477\n",
      "              Дом       0.81      0.78      0.80       197\n",
      "         Из жизни       0.72      0.44      0.55       252\n",
      "   Интернет и СМИ       0.84      0.46      0.60       397\n",
      "         Культура       0.92      0.86      0.89       478\n",
      "              Мир       0.77      0.87      0.81      1229\n",
      "  Наука и техника       0.85      0.79      0.82       481\n",
      "      Путешествия       0.72      0.44      0.55        63\n",
      "           Россия       0.71      0.89      0.79      1443\n",
      "Силовые структуры       0.72      0.38      0.49       180\n",
      "            Спорт       0.99      0.89      0.94       584\n",
      "         Ценности       0.89      0.74      0.81        69\n",
      "        Экономика       0.88      0.80      0.84       715\n",
      "\n",
      "         accuracy                           0.80      6630\n",
      "        macro avg       0.79      0.69      0.72      6630\n",
      "     weighted avg       0.81      0.80      0.79      6630\n",
      "\n",
      "\n"
     ]
    },
    {
     "data": {
      "application/vnd.jupyter.widget-view+json": {
       "model_id": "fca4efdbb57b4d1a9c159ba5a79ff2ea",
       "version_major": 2,
       "version_minor": 0
      },
      "text/plain": [
       "  0%|          | 0/6630 [00:00<?, ?it/s]"
      ]
     },
     "metadata": {},
     "output_type": "display_data"
    },
    {
     "name": "stdout",
     "output_type": "stream",
     "text": [
      "Step 30000 ... Train f1: 0.81 ... Val f1: 0.80 ... Mean train loss: 0.0020 ... Mean val loss: 0.2148\n",
      "\n",
      "                   precision    recall  f1-score   support\n",
      "\n",
      "           Бизнес       0.67      0.16      0.26        61\n",
      "      Бывший СССР       0.89      0.80      0.84       422\n",
      "              Дом       0.87      0.77      0.82       172\n",
      "         Из жизни       0.50      0.80      0.62       234\n",
      "   Интернет и СМИ       0.82      0.59      0.69       357\n",
      "         Культура       0.86      0.89      0.88       431\n",
      "              Мир       0.89      0.77      0.83      1113\n",
      "  Наука и техника       0.83      0.87      0.85       440\n",
      "      Путешествия       0.57      0.65      0.61        51\n",
      "           Россия       0.76      0.90      0.83      1270\n",
      "Силовые структуры       0.74      0.12      0.21       142\n",
      "            Спорт       0.94      0.98      0.96       549\n",
      "         Ценности       0.81      0.74      0.77        65\n",
      "        Экономика       0.82      0.88      0.85       693\n",
      "\n",
      "         accuracy                           0.82      6000\n",
      "        macro avg       0.78      0.71      0.71      6000\n",
      "     weighted avg       0.82      0.82      0.81      6000\n",
      "\n",
      "\n",
      "                   precision    recall  f1-score   support\n",
      "\n",
      "           Бизнес       0.71      0.18      0.29        65\n",
      "      Бывший СССР       0.89      0.81      0.85       477\n",
      "              Дом       0.92      0.72      0.81       197\n",
      "         Из жизни       0.50      0.73      0.60       252\n",
      "   Интернет и СМИ       0.81      0.59      0.68       397\n",
      "         Культура       0.87      0.92      0.89       478\n",
      "              Мир       0.87      0.76      0.81      1229\n",
      "  Наука и техника       0.83      0.85      0.84       481\n",
      "      Путешествия       0.64      0.71      0.68        63\n",
      "           Россия       0.73      0.91      0.81      1443\n",
      "Силовые структуры       0.82      0.08      0.14       180\n",
      "            Спорт       0.96      0.97      0.97       584\n",
      "         Ценности       0.86      0.74      0.80        69\n",
      "        Экономика       0.82      0.90      0.86       715\n",
      "\n",
      "         accuracy                           0.81      6630\n",
      "        macro avg       0.80      0.71      0.72      6630\n",
      "     weighted avg       0.82      0.81      0.80      6630\n",
      "\n",
      "\n"
     ]
    },
    {
     "data": {
      "application/vnd.jupyter.widget-view+json": {
       "model_id": "b035810969d94391bf28b7d3e00b8752",
       "version_major": 2,
       "version_minor": 0
      },
      "text/plain": [
       "  0%|          | 0/6630 [00:00<?, ?it/s]"
      ]
     },
     "metadata": {},
     "output_type": "display_data"
    },
    {
     "name": "stdout",
     "output_type": "stream",
     "text": [
      "Step 36000 ... Train f1: 0.83 ... Val f1: 0.79 ... Mean train loss: 0.0019 ... Mean val loss: 0.2415\n",
      "\n",
      "                   precision    recall  f1-score   support\n",
      "\n",
      "           Бизнес       0.76      0.31      0.44        61\n",
      "      Бывший СССР       0.91      0.85      0.88       422\n",
      "              Дом       0.93      0.89      0.91       172\n",
      "         Из жизни       0.64      0.73      0.68       234\n",
      "   Интернет и СМИ       0.89      0.63      0.74       357\n",
      "         Культура       0.84      0.97      0.90       431\n",
      "              Мир       0.95      0.66      0.78      1113\n",
      "  Наука и техника       0.90      0.84      0.87       440\n",
      "      Путешествия       0.74      0.57      0.64        51\n",
      "           Россия       0.75      0.93      0.83      1270\n",
      "Силовые структуры       0.71      0.50      0.59       142\n",
      "            Спорт       0.94      0.99      0.97       549\n",
      "         Ценности       0.79      0.88      0.83        65\n",
      "        Экономика       0.80      0.95      0.87       693\n",
      "\n",
      "         accuracy                           0.83      6000\n",
      "        macro avg       0.82      0.76      0.78      6000\n",
      "     weighted avg       0.85      0.83      0.83      6000\n",
      "\n",
      "\n",
      "                   precision    recall  f1-score   support\n",
      "\n",
      "           Бизнес       0.65      0.20      0.31        65\n",
      "      Бывший СССР       0.87      0.82      0.84       477\n",
      "              Дом       0.92      0.77      0.83       197\n",
      "         Из жизни       0.59      0.64      0.62       252\n",
      "   Интернет и СМИ       0.82      0.56      0.67       397\n",
      "         Культура       0.80      0.93      0.86       478\n",
      "              Мир       0.91      0.64      0.75      1229\n",
      "  Наука и техника       0.88      0.83      0.85       481\n",
      "      Путешествия       0.74      0.63      0.68        63\n",
      "           Россия       0.69      0.90      0.78      1443\n",
      "Силовые структуры       0.70      0.40      0.51       180\n",
      "            Спорт       0.95      0.98      0.96       584\n",
      "         Ценности       0.81      0.86      0.83        69\n",
      "        Экономика       0.77      0.93      0.84       715\n",
      "\n",
      "         accuracy                           0.80      6630\n",
      "        macro avg       0.79      0.72      0.74      6630\n",
      "     weighted avg       0.81      0.80      0.79      6630\n",
      "\n",
      "\n"
     ]
    }
   ],
   "source": [
    "batch_size = 1\n",
    "epochs = 1\n",
    "lr = 1e-3\n",
    "report_steps = 6000\n",
    "\n",
    "t5_model_trained, train_loss, test_loss = train_t5(model, \n",
    "                                                   epochs, \n",
    "                                                   train_pairs, \n",
    "                                                   val_pairs, \n",
    "                                                   batch_size, \n",
    "                                                   report_steps, \n",
    "                                                   lr)"
   ]
  },
  {
   "cell_type": "markdown",
   "id": "5158a556",
   "metadata": {},
   "source": [
    "В принципе неплохо, сравнимо с бертом по качеству, лосс также падает."
   ]
  },
  {
   "cell_type": "code",
   "execution_count": 19,
   "id": "937288f1",
   "metadata": {},
   "outputs": [
    {
     "data": {
      "image/png": "[encoded data removed]",
      "text/plain": [
       "<Figure size 1440x360 with 2 Axes>"
      ]
     },
     "metadata": {
      "needs_background": "light"
     },
     "output_type": "display_data"
    }
   ],
   "source": [
    "plot_losses(train_loss, test_loss)"
   ]
  },
  {
   "cell_type": "markdown",
   "id": "f0192e5b",
   "metadata": {},
   "source": [
    "Попробуем понизить LR, и обучим модель еще одну эпоху:"
   ]
  },
  {
   "cell_type": "code",
   "execution_count": 20,
   "id": "1c7466ff",
   "metadata": {
    "scrolled": false
   },
   "outputs": [
    {
     "name": "stdout",
     "output_type": "stream",
     "text": [
      "EPOCH 0\n"
     ]
    },
    {
     "data": {
      "application/vnd.jupyter.widget-view+json": {
       "model_id": "40be3840b5e449ab8767013250c5e6d1",
       "version_major": 2,
       "version_minor": 0
      },
      "text/plain": [
       "  0%|          | 0/37567 [00:00<?, ?it/s]"
      ]
     },
     "metadata": {},
     "output_type": "display_data"
    },
    {
     "data": {
      "application/vnd.jupyter.widget-view+json": {
       "model_id": "5356b7049cab4ec9989617c0290e64bf",
       "version_major": 2,
       "version_minor": 0
      },
      "text/plain": [
       "  0%|          | 0/6630 [00:00<?, ?it/s]"
      ]
     },
     "metadata": {},
     "output_type": "display_data"
    },
    {
     "name": "stdout",
     "output_type": "stream",
     "text": [
      "Step 6000 ... Train f1: 0.85 ... Val f1: 0.83 ... Mean train loss: 0.0014 ... Mean val loss: 0.1821\n",
      "\n",
      "                   precision    recall  f1-score   support\n",
      "\n",
      "           Бизнес       0.58      0.59      0.59        61\n",
      "      Бывший СССР       0.89      0.86      0.87       430\n",
      "              Дом       0.92      0.91      0.91       170\n",
      "         Из жизни       0.79      0.68      0.73       233\n",
      "   Интернет и СМИ       0.87      0.73      0.80       371\n",
      "         Культура       0.90      0.94      0.92       443\n",
      "              Мир       0.82      0.87      0.84      1066\n",
      "  Наука и техника       0.86      0.83      0.84       419\n",
      "      Путешествия       0.92      0.78      0.84        58\n",
      "           Россия       0.84      0.86      0.85      1357\n",
      "Силовые структуры       0.71      0.64      0.67       172\n",
      "            Спорт       0.96      0.99      0.97       493\n",
      "         Ценности       0.87      0.88      0.87        67\n",
      "        Экономика       0.87      0.89      0.88       660\n",
      "\n",
      "         accuracy                           0.86      6000\n",
      "        macro avg       0.84      0.82      0.83      6000\n",
      "     weighted avg       0.86      0.86      0.85      6000\n",
      "\n",
      "\n",
      "                   precision    recall  f1-score   support\n",
      "\n",
      "           Бизнес       0.52      0.42      0.46        65\n",
      "      Бывший СССР       0.86      0.85      0.86       477\n",
      "              Дом       0.89      0.81      0.85       197\n",
      "         Из жизни       0.73      0.58      0.65       252\n",
      "   Интернет и СМИ       0.80      0.66      0.73       397\n",
      "         Культура       0.87      0.90      0.88       478\n",
      "              Мир       0.82      0.86      0.84      1229\n",
      "  Наука и техника       0.88      0.82      0.85       481\n",
      "      Путешествия       0.75      0.76      0.76        63\n",
      "           Россия       0.81      0.86      0.83      1443\n",
      "Силовые структуры       0.73      0.61      0.66       180\n",
      "            Спорт       0.96      0.97      0.97       584\n",
      "         Ценности       0.85      0.84      0.85        69\n",
      "        Экономика       0.84      0.88      0.86       715\n",
      "\n",
      "         accuracy                           0.83      6630\n",
      "        macro avg       0.81      0.77      0.79      6630\n",
      "     weighted avg       0.83      0.83      0.83      6630\n",
      "\n",
      "\n"
     ]
    },
    {
     "data": {
      "application/vnd.jupyter.widget-view+json": {
       "model_id": "99f4982084c84549a715143522dc2bbc",
       "version_major": 2,
       "version_minor": 0
      },
      "text/plain": [
       "  0%|          | 0/6630 [00:00<?, ?it/s]"
      ]
     },
     "metadata": {},
     "output_type": "display_data"
    },
    {
     "name": "stdout",
     "output_type": "stream",
     "text": [
      "Step 12000 ... Train f1: 0.86 ... Val f1: 0.83 ... Mean train loss: 0.0014 ... Mean val loss: 0.1816\n",
      "\n",
      "                   precision    recall  f1-score   support\n",
      "\n",
      "           Бизнес       0.56      0.61      0.58        61\n",
      "      Бывший СССР       0.90      0.87      0.89       430\n",
      "              Дом       0.93      0.90      0.92       170\n",
      "         Из жизни       0.78      0.70      0.73       233\n",
      "   Интернет и СМИ       0.86      0.77      0.81       371\n",
      "         Культура       0.92      0.93      0.93       443\n",
      "              Мир       0.82      0.88      0.85      1066\n",
      "  Наука и техника       0.87      0.83      0.85       419\n",
      "      Путешествия       0.91      0.84      0.88        58\n",
      "           Россия       0.86      0.86      0.86      1357\n",
      "Силовые структуры       0.65      0.70      0.67       172\n",
      "            Спорт       0.97      0.98      0.98       493\n",
      "         Ценности       0.88      0.90      0.89        67\n",
      "        Экономика       0.88      0.88      0.88       660\n",
      "\n",
      "         accuracy                           0.86      6000\n",
      "        macro avg       0.84      0.83      0.84      6000\n",
      "     weighted avg       0.86      0.86      0.86      6000\n",
      "\n",
      "\n",
      "                   precision    recall  f1-score   support\n",
      "\n",
      "           Бизнес       0.52      0.45      0.48        65\n",
      "      Бывший СССР       0.86      0.85      0.85       477\n",
      "              Дом       0.88      0.82      0.85       197\n",
      "         Из жизни       0.72      0.58      0.64       252\n",
      "   Интернет и СМИ       0.79      0.70      0.74       397\n",
      "         Культура       0.88      0.90      0.89       478\n",
      "              Мир       0.81      0.86      0.83      1229\n",
      "  Наука и техника       0.87      0.81      0.84       481\n",
      "      Путешествия       0.68      0.78      0.73        63\n",
      "           Россия       0.82      0.84      0.83      1443\n",
      "Силовые структуры       0.66      0.68      0.67       180\n",
      "            Спорт       0.97      0.96      0.97       584\n",
      "         Ценности       0.82      0.84      0.83        69\n",
      "        Экономика       0.85      0.87      0.86       715\n",
      "\n",
      "         accuracy                           0.83      6630\n",
      "        macro avg       0.79      0.78      0.79      6630\n",
      "     weighted avg       0.83      0.83      0.83      6630\n",
      "\n",
      "\n"
     ]
    },
    {
     "data": {
      "application/vnd.jupyter.widget-view+json": {
       "model_id": "01c8602408f54b89901a6b7cfdbc300b",
       "version_major": 2,
       "version_minor": 0
      },
      "text/plain": [
       "  0%|          | 0/6630 [00:00<?, ?it/s]"
      ]
     },
     "metadata": {},
     "output_type": "display_data"
    },
    {
     "name": "stdout",
     "output_type": "stream",
     "text": [
      "Step 18000 ... Train f1: 0.86 ... Val f1: 0.84 ... Mean train loss: 0.0013 ... Mean val loss: 0.1798\n",
      "\n",
      "                   precision    recall  f1-score   support\n",
      "\n",
      "           Бизнес       0.51      0.66      0.58        61\n",
      "      Бывший СССР       0.91      0.87      0.89       430\n",
      "              Дом       0.97      0.88      0.92       170\n",
      "         Из жизни       0.85      0.63      0.72       233\n",
      "   Интернет и СМИ       0.84      0.77      0.80       371\n",
      "         Культура       0.90      0.96      0.93       443\n",
      "              Мир       0.85      0.85      0.85      1066\n",
      "  Наука и техника       0.86      0.85      0.85       419\n",
      "      Путешествия       0.89      0.81      0.85        58\n",
      "           Россия       0.84      0.89      0.86      1357\n",
      "Силовые структуры       0.73      0.63      0.68       172\n",
      "            Спорт       0.97      0.99      0.98       493\n",
      "         Ценности       0.87      0.82      0.85        67\n",
      "        Экономика       0.86      0.90      0.88       660\n",
      "\n",
      "         accuracy                           0.86      6000\n",
      "        macro avg       0.85      0.82      0.83      6000\n",
      "     weighted avg       0.86      0.86      0.86      6000\n",
      "\n",
      "\n",
      "                   precision    recall  f1-score   support\n",
      "\n",
      "           Бизнес       0.52      0.55      0.54        65\n",
      "      Бывший СССР       0.87      0.85      0.86       477\n",
      "              Дом       0.91      0.79      0.84       197\n",
      "         Из жизни       0.77      0.54      0.63       252\n",
      "   Интернет и СМИ       0.79      0.72      0.75       397\n",
      "         Культура       0.87      0.91      0.89       478\n",
      "              Мир       0.84      0.84      0.84      1229\n",
      "  Наука и техника       0.86      0.84      0.85       481\n",
      "      Путешествия       0.72      0.76      0.74        63\n",
      "           Россия       0.80      0.87      0.83      1443\n",
      "Силовые структуры       0.73      0.58      0.65       180\n",
      "            Спорт       0.97      0.96      0.97       584\n",
      "         Ценности       0.89      0.83      0.86        69\n",
      "        Экономика       0.83      0.89      0.86       715\n",
      "\n",
      "         accuracy                           0.84      6630\n",
      "        macro avg       0.81      0.78      0.79      6630\n",
      "     weighted avg       0.84      0.84      0.84      6630\n",
      "\n",
      "\n"
     ]
    },
    {
     "data": {
      "application/vnd.jupyter.widget-view+json": {
       "model_id": "4d513f5a2ae6458db463c188fe12b66c",
       "version_major": 2,
       "version_minor": 0
      },
      "text/plain": [
       "  0%|          | 0/6630 [00:00<?, ?it/s]"
      ]
     },
     "metadata": {},
     "output_type": "display_data"
    },
    {
     "name": "stdout",
     "output_type": "stream",
     "text": [
      "Step 24000 ... Train f1: 0.86 ... Val f1: 0.83 ... Mean train loss: 0.0013 ... Mean val loss: 0.1788\n",
      "\n",
      "                   precision    recall  f1-score   support\n",
      "\n",
      "           Бизнес       0.55      0.59      0.57        61\n",
      "      Бывший СССР       0.92      0.85      0.89       430\n",
      "              Дом       0.97      0.87      0.92       170\n",
      "         Из жизни       0.86      0.58      0.69       233\n",
      "   Интернет и СМИ       0.84      0.75      0.79       371\n",
      "         Культура       0.91      0.94      0.93       443\n",
      "              Мир       0.82      0.87      0.85      1066\n",
      "  Наука и техника       0.87      0.83      0.85       419\n",
      "      Путешествия       0.89      0.81      0.85        58\n",
      "           Россия       0.82      0.89      0.85      1357\n",
      "Силовые структуры       0.70      0.65      0.67       172\n",
      "            Спорт       0.97      0.99      0.98       493\n",
      "         Ценности       0.89      0.82      0.85        67\n",
      "        Экономика       0.88      0.88      0.88       660\n",
      "\n",
      "         accuracy                           0.86      6000\n",
      "        macro avg       0.85      0.81      0.83      6000\n",
      "     weighted avg       0.86      0.86      0.86      6000\n",
      "\n",
      "\n",
      "                   precision    recall  f1-score   support\n",
      "\n",
      "           Бизнес       0.53      0.48      0.50        65\n",
      "      Бывший СССР       0.87      0.85      0.86       477\n",
      "              Дом       0.91      0.78      0.84       197\n",
      "         Из жизни       0.78      0.51      0.62       252\n",
      "   Интернет и СМИ       0.80      0.70      0.75       397\n",
      "         Культура       0.89      0.91      0.90       478\n",
      "              Мир       0.82      0.85      0.84      1229\n",
      "  Наука и техника       0.87      0.81      0.84       481\n",
      "      Путешествия       0.73      0.75      0.74        63\n",
      "           Россия       0.79      0.88      0.83      1443\n",
      "Силовые структуры       0.73      0.61      0.66       180\n",
      "            Спорт       0.97      0.97      0.97       584\n",
      "         Ценности       0.88      0.81      0.84        69\n",
      "        Экономика       0.84      0.88      0.86       715\n",
      "\n",
      "         accuracy                           0.84      6630\n",
      "        macro avg       0.82      0.77      0.79      6630\n",
      "     weighted avg       0.84      0.84      0.83      6630\n",
      "\n",
      "\n"
     ]
    },
    {
     "data": {
      "application/vnd.jupyter.widget-view+json": {
       "model_id": "334649ab7bab4d768b1e65d56ba22786",
       "version_major": 2,
       "version_minor": 0
      },
      "text/plain": [
       "  0%|          | 0/6630 [00:00<?, ?it/s]"
      ]
     },
     "metadata": {},
     "output_type": "display_data"
    },
    {
     "name": "stdout",
     "output_type": "stream",
     "text": [
      "Step 30000 ... Train f1: 0.86 ... Val f1: 0.84 ... Mean train loss: 0.0013 ... Mean val loss: 0.1765\n",
      "\n",
      "                   precision    recall  f1-score   support\n",
      "\n",
      "           Бизнес       0.50      0.74      0.60        61\n",
      "      Бывший СССР       0.93      0.83      0.88       430\n",
      "              Дом       0.97      0.87      0.92       170\n",
      "         Из жизни       0.83      0.64      0.72       233\n",
      "   Интернет и СМИ       0.84      0.78      0.81       371\n",
      "         Культура       0.92      0.94      0.93       443\n",
      "              Мир       0.83      0.86      0.85      1066\n",
      "  Наука и техника       0.87      0.84      0.85       419\n",
      "      Путешествия       0.89      0.83      0.86        58\n",
      "           Россия       0.83      0.89      0.86      1357\n",
      "Силовые структуры       0.74      0.62      0.67       172\n",
      "            Спорт       0.97      0.99      0.98       493\n",
      "         Ценности       0.90      0.82      0.86        67\n",
      "        Экономика       0.87      0.88      0.88       660\n",
      "\n",
      "         accuracy                           0.86      6000\n",
      "        macro avg       0.85      0.82      0.83      6000\n",
      "     weighted avg       0.86      0.86      0.86      6000\n",
      "\n",
      "\n",
      "                   precision    recall  f1-score   support\n",
      "\n",
      "           Бизнес       0.55      0.69      0.61        65\n",
      "      Бывший СССР       0.88      0.85      0.86       477\n",
      "              Дом       0.90      0.79      0.84       197\n",
      "         Из жизни       0.77      0.55      0.64       252\n",
      "   Интернет и СМИ       0.80      0.72      0.76       397\n",
      "         Культура       0.90      0.90      0.90       478\n",
      "              Мир       0.83      0.85      0.84      1229\n",
      "  Наука и техника       0.88      0.83      0.86       481\n",
      "      Путешествия       0.70      0.75      0.72        63\n",
      "           Россия       0.79      0.88      0.84      1443\n",
      "Силовые структуры       0.76      0.56      0.64       180\n",
      "            Спорт       0.97      0.97      0.97       584\n",
      "         Ценности       0.88      0.81      0.84        69\n",
      "        Экономика       0.86      0.88      0.87       715\n",
      "\n",
      "         accuracy                           0.84      6630\n",
      "        macro avg       0.82      0.79      0.80      6630\n",
      "     weighted avg       0.84      0.84      0.84      6630\n",
      "\n",
      "\n"
     ]
    },
    {
     "data": {
      "application/vnd.jupyter.widget-view+json": {
       "model_id": "52c2ad400ec74deb974617d8b03b46d3",
       "version_major": 2,
       "version_minor": 0
      },
      "text/plain": [
       "  0%|          | 0/6630 [00:00<?, ?it/s]"
      ]
     },
     "metadata": {},
     "output_type": "display_data"
    },
    {
     "name": "stdout",
     "output_type": "stream",
     "text": [
      "Step 36000 ... Train f1: 0.88 ... Val f1: 0.84 ... Mean train loss: 0.0013 ... Mean val loss: 0.1770\n",
      "\n",
      "                   precision    recall  f1-score   support\n",
      "\n",
      "           Бизнес       0.54      0.74      0.62        61\n",
      "      Бывший СССР       0.90      0.90      0.90       430\n",
      "              Дом       0.98      0.92      0.95       170\n",
      "         Из жизни       0.84      0.70      0.76       233\n",
      "   Интернет и СМИ       0.84      0.82      0.83       371\n",
      "         Культура       0.93      0.95      0.94       443\n",
      "              Мир       0.86      0.86      0.86      1066\n",
      "  Наука и техника       0.88      0.82      0.85       419\n",
      "      Путешествия       0.91      0.83      0.86        58\n",
      "           Россия       0.85      0.91      0.88      1357\n",
      "Силовые структуры       0.75      0.63      0.69       172\n",
      "            Спорт       0.98      0.99      0.98       493\n",
      "         Ценности       0.87      0.88      0.87        67\n",
      "        Экономика       0.90      0.88      0.89       660\n",
      "\n",
      "         accuracy                           0.88      6000\n",
      "        macro avg       0.86      0.84      0.85      6000\n",
      "     weighted avg       0.88      0.88      0.88      6000\n",
      "\n",
      "\n",
      "                   precision    recall  f1-score   support\n",
      "\n",
      "           Бизнес       0.55      0.62      0.58        65\n",
      "      Бывший СССР       0.84      0.88      0.86       477\n",
      "              Дом       0.88      0.82      0.85       197\n",
      "         Из жизни       0.74      0.58      0.65       252\n",
      "   Интернет и СМИ       0.79      0.74      0.76       397\n",
      "         Культура       0.90      0.91      0.90       478\n",
      "              Мир       0.84      0.83      0.84      1229\n",
      "  Наука и техника       0.89      0.81      0.85       481\n",
      "      Путешествия       0.70      0.76      0.73        63\n",
      "           Россия       0.80      0.88      0.84      1443\n",
      "Силовые структуры       0.74      0.56      0.64       180\n",
      "            Спорт       0.97      0.96      0.97       584\n",
      "         Ценности       0.82      0.86      0.84        69\n",
      "        Экономика       0.86      0.86      0.86       715\n",
      "\n",
      "         accuracy                           0.84      6630\n",
      "        macro avg       0.81      0.79      0.80      6630\n",
      "     weighted avg       0.84      0.84      0.84      6630\n",
      "\n",
      "\n"
     ]
    }
   ],
   "source": [
    "lr = 1e-4\n",
    "\n",
    "t5_model_trained_1, train_loss_1, test_loss_1 = train_t5(t5_model_trained, \n",
    "                                                         epochs, \n",
    "                                                         train_pairs, \n",
    "                                                         val_pairs, \n",
    "                                                         batch_size, \n",
    "                                                         report_steps, \n",
    "                                                         lr)"
   ]
  },
  {
   "cell_type": "markdown",
   "id": "fcff5d57",
   "metadata": {},
   "source": [
    "Неудивительно модель показала наилучшее качество по сравнению с предыдущими, 0.84 f1 на валидации.\n",
    "\n",
    "Общий лосс за две эпохи:"
   ]
  },
  {
   "cell_type": "code",
   "execution_count": 22,
   "id": "caa13ef6",
   "metadata": {},
   "outputs": [
    {
     "data": {
      "image/png": "[encoded data removed]",
      "text/plain": [
       "<Figure size 1440x360 with 2 Axes>"
      ]
     },
     "metadata": {
      "needs_background": "light"
     },
     "output_type": "display_data"
    }
   ],
   "source": [
    "plot_losses(train_loss + train_loss_1, test_loss + test_loss_1)"
   ]
  },
  {
   "cell_type": "code",
   "execution_count": 69,
   "id": "99e9dcb0",
   "metadata": {},
   "outputs": [
    {
     "data": {
      "image/png": "[encoded data removed]",
      "text/plain": [
       "<Figure size 1440x360 with 2 Axes>"
      ]
     },
     "metadata": {
      "needs_background": "light"
     },
     "output_type": "display_data"
    }
   ],
   "source": [
    "plot_losses(avg_loss(train_loss + train_loss_1, parts_to_div), avg_loss(test_loss + test_loss_1, parts_to_div))"
   ]
  },
  {
   "cell_type": "markdown",
   "id": "80ba5f08",
   "metadata": {},
   "source": [
    "## Задание 2\n",
    "\n",
    "1. Roberta описана в статье https://arxiv.org/pdf/1907.11692.pdf (RoBERTa: A Robustly Optimized BERT Pretraining Approach)\n",
    "\n",
    "Отличается от Bert следующим:\n",
    " 1) Токенизатор BPE, вместо Wordpiece;<br>\n",
    " 2) Улучшенные гиперпаметры при обучении: увеличенный batch size до 8k примеров в батче, увеличено число шагов при предобучении (warmup steps), увеличено максимальное значение LR;<br>\n",
    " 3) Убрали при обучении предсказание следующего предложения после текущего - Next Sentence Prediction;<br>\n",
    " 4) Применение динамических масок слов при обучении, в отличие от Bert-а маски которого были статическими. При обучении Roberta одно и тоже предложение модели показывалось 4 раза;<br>\n",
    " 5) Увеличено число обучающих данных 13Gb против 160Gb - были добавлены тексты книг и англоязычной Википедии, Common Crawl News, OpenWebText.<br><br>\n",
    "\n",
    "2. T5 (https://arxiv.org/pdf/1910.10683.pdf) представляет собой модель с архитектурой энкодер-декодер, в отличие от Bert и Roberta, архитектура которых представляет только энкодер. <br>\n",
    "Задачи, на которых обучалась T5 представляют собой формат виде text-to-text, т.е. любая NLP задача решается с помощью метода перевода одной текстовой последовательности в другую.<br>\n",
    "Модель обучалась на нескольких типах задач: unsupervised denoising training, supervised training.<br>\n",
    "1 тип решает задачу предсказания токенов \\<extra_id_0> ... \\<extra_id_99> в тексте. Например, \"Собака \\<extra_id_0>\" - > \"\\<extra_id_0> лает.\".<br>\n",
    "2 тип с помощью префиксов с описанием задания, например, 'Summarize: ' или 'Translate English to Spain: '.<br>\n",
    "Эти типы отличаются от тех, что были использованы при обучении Bert или Roberta.<br>\n",
    "T5 обучалась с Adafactor loss, в отличие от Adam у Bert."
   ]
  },
  {
   "cell_type": "code",
   "execution_count": null,
   "id": "f749b174",
   "metadata": {},
   "outputs": [],
   "source": []
  }
 ],
 "metadata": {
  "kernelspec": {
   "display_name": "Python 3",
   "language": "python",
   "name": "python3"
  },
  "language_info": {
   "codemirror_mode": {
    "name": "ipython",
    "version": 3
   },
   "file_extension": ".py",
   "mimetype": "text/x-python",
   "name": "python",
   "nbconvert_exporter": "python",
   "pygments_lexer": "ipython3",
   "version": "3.8.10"
  }
 },
 "nbformat": 4,
 "nbformat_minor": 5
}
