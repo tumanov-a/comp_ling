{
 "cells": [
  {
   "cell_type": "markdown",
   "id": "00fad453",
   "metadata": {},
   "source": [
    "# Домашнее задание № 4. Языковые модели"
   ]
  },
  {
   "cell_type": "markdown",
   "id": "5d056af4",
   "metadata": {},
   "source": [
    "## Задание 1 (8 баллов)."
   ]
  },
  {
   "cell_type": "markdown",
   "id": "d1f532a8",
   "metadata": {},
   "source": [
    "В семинаре для генерации мы использовали предположение маркова и считали, что слово зависит только от 1 предыдущего слова. Но ничто нам не мешает попробовать увеличить размер окна и учитывать два или даже три прошлых слова. Для них мы еще сможем собрать достаточно статистик и, логично предположить, что качество сгенерированного текста должно вырасти."
   ]
  },
  {
   "cell_type": "markdown",
   "id": "de743d1d",
   "metadata": {},
   "source": [
    "Попробуйте сделать языковую модель, которая будет учитывать два предыдущих слова при генерации текста.\n",
    "Сгенерируйте несколько текстов (3-5) и расчитайте перплексию получившейся модели. \n",
    "Можно использовать данные из семинара или любые другие (сопоставимые или большие по объему). Перплексию рассчитывайте на 10-50 отложенных предложениях (они не должны использоваться при сборе статистик).\n",
    "\n",
    "\n",
    "Подсказки:  \n",
    "    - нужно будет добавить еще один тэг <start>  \n",
    "    - еще одна матрица не нужна, можно по строкам хронить биграмы, а по колонкам униграммы  \n",
    "    - тексты должны быть очень похожи на нормальные (если у вас получается рандомная каша, вы что-то делаете не так). "
   ]
  },
  {
   "cell_type": "code",
   "execution_count": 2,
   "id": "633dde20",
   "metadata": {},
   "outputs": [
    {
     "name": "stdout",
     "output_type": "stream",
     "text": [
      "Defaulting to user installation because normal site-packages is not writeable\n",
      "Collecting razdel\n",
      "  Using cached razdel-0.5.0-py3-none-any.whl (21 kB)\n",
      "Installing collected packages: razdel\n",
      "Successfully installed razdel-0.5.0\n"
     ]
    }
   ],
   "source": [
    "!pip install razdel"
   ]
  },
  {
   "cell_type": "code",
   "execution_count": 56,
   "id": "d078056d",
   "metadata": {},
   "outputs": [],
   "source": [
    "from string import punctuation\n",
    "from razdel import sentenize\n",
    "from razdel import tokenize as razdel_tokenize\n",
    "from collections import Counter\n",
    "import numpy as np\n",
    "import nltk\n",
    "import random\n",
    "from IPython.display import Image\n",
    "from IPython.core.display import HTML \n",
    "from nltk.tokenize import sent_tokenize\n",
    "\n",
    "\n",
    "dvach = open('2ch_corpus.txt', encoding='utf-8').read()\n",
    "news = open('lenta.txt',  encoding='utf-8').read()\n",
    "\n",
    "def normalize(text):\n",
    "    normalized_text = [word.text for word \\\n",
    "                                                            in razdel_tokenize(text)]\n",
    "    normalized_text = [word.lower() for word in normalized_text if word and len(word) < 20 ]\n",
    "    return normalized_text\n",
    "\n",
    "def ngrammer(tokens, n=2):\n",
    "    ngrams = []\n",
    "    for i in range(0,len(tokens)-n+1):\n",
    "        ngrams.append(' '.join(tokens[i:i+n]))\n",
    "    return ngrams"
   ]
  },
  {
   "cell_type": "code",
   "execution_count": 57,
   "id": "6afcef88",
   "metadata": {},
   "outputs": [],
   "source": [
    "sentences_dvach = [['<start1>', '<start2>'] + normalize(text) + ['<end>'] for text in sent_tokenize(dvach)]\n",
    "sentences_news = [['<start1>', '<start2>'] + normalize(text) + ['<end>'] for text in sent_tokenize(news)]"
   ]
  },
  {
   "cell_type": "code",
   "execution_count": 58,
   "id": "614870b8",
   "metadata": {},
   "outputs": [],
   "source": [
    "test_sentences_dvach = sentences_dvach[-50:]\n",
    "test_sentences_news = sentences_news[-50:]\n",
    "\n",
    "sentences_dvach = sentences_dvach[:-50]\n",
    "sentences_news = sentences_news[:-50]"
   ]
  },
  {
   "cell_type": "code",
   "execution_count": 59,
   "id": "dd41d431",
   "metadata": {},
   "outputs": [],
   "source": [
    "unigrams_dvach = Counter()\n",
    "bigrams_dvach = Counter()\n",
    "threegrams_dvach = Counter()\n",
    "\n",
    "for sentence in sentences_dvach:\n",
    "    unigrams_dvach.update(sentence)\n",
    "    bigrams_dvach.update(ngrammer(sentence))\n",
    "    threegrams_dvach.update(ngrammer(sentence, n=3))\n",
    "    \n",
    "unigrams_news = Counter()\n",
    "bigrams_news = Counter()\n",
    "threegrams_news = Counter()\n",
    "\n",
    "for sentence in sentences_news:\n",
    "    unigrams_news.update(sentence)\n",
    "    bigrams_news.update(ngrammer(sentence))\n",
    "    threegrams_news.update(ngrammer(sentence, n=3))"
   ]
  },
  {
   "cell_type": "code",
   "execution_count": 60,
   "id": "1c03c2e3",
   "metadata": {},
   "outputs": [
    {
     "data": {
      "text/plain": [
       "[('\" . <end>', 8194),\n",
       " ('<start1> <start2> в', 7815),\n",
       " ('<start1> <start2> по', 6188),\n",
       " ('<start1> <start2> как', 3720),\n",
       " ('\" новости \"', 3510),\n",
       " ('риа \" новости', 3498),\n",
       " ('<start1> <start2> \"', 3026),\n",
       " ('\" , -', 1980),\n",
       " ('<start1> <start2> однако', 1677),\n",
       " ('<start1> <start2> на', 1617)]"
      ]
     },
     "execution_count": 60,
     "metadata": {},
     "output_type": "execute_result"
    }
   ],
   "source": [
    "threegrams_news.most_common(10)"
   ]
  },
  {
   "cell_type": "code",
   "execution_count": 61,
   "id": "38deaa3e",
   "metadata": {},
   "outputs": [],
   "source": [
    "#phrase = 'Технические возможности устаревшего российского судна не позволили разгрузить его у терминала'\n",
    "#phrase = 'Ныть надо меньше и работать больше.'\n",
    "phrase = 'Безграмотное быдло с дубляжом, войсовером, порнографией и котикам'\n",
    "\n",
    "prob = Counter()\n",
    "\n",
    "for ngram in ngrammer(['<start1>', '<start2>'] + normalize(phrase) + ['<end>'], n=3):\n",
    "    word1, word2, word3 = ngram.split()\n",
    "    word1_word2 = ' '.join([word1, word2])\n",
    "    \n",
    "    if word1_word2 in bigrams_dvach and ngram in threegrams_dvach:\n",
    "        prob['dvach'] += np.log(threegrams_dvach[ngram]/bigrams_dvach[word1_word2])\n",
    "    else:\n",
    "        prob['dvach'] += np.log(2e-7)\n",
    "    \n",
    "    if word1_word2 in bigrams_news and ngram in threegrams_news:\n",
    "        prob['news'] += np.log(threegrams_news[ngram]/bigrams_news[word1_word2])\n",
    "    else:\n",
    "        prob['news'] += np.log(2e-7)"
   ]
  },
  {
   "cell_type": "code",
   "execution_count": 62,
   "id": "5c3b9805",
   "metadata": {},
   "outputs": [
    {
     "data": {
      "text/plain": [
       "(-169.6744331743821, -42.33359978724259)"
      ]
     },
     "execution_count": 62,
     "metadata": {},
     "output_type": "execute_result"
    }
   ],
   "source": [
    "prob['news'], prob['dvach']"
   ]
  },
  {
   "cell_type": "code",
   "execution_count": 63,
   "id": "01b33d99",
   "metadata": {},
   "outputs": [],
   "source": [
    "matrix_news = np.zeros((len(bigrams_news), \n",
    "                        len(unigrams_news)), dtype='float32')\n",
    "\n",
    "id2word_news = list(unigrams_news)\n",
    "word2id_news = {word:i for i, word in enumerate(id2word_news)}\n",
    "\n",
    "id2bigram_news = list(bigrams_news)\n",
    "bigram2id_news = {bigram:i for i, bigram in enumerate(id2bigram_news)}\n",
    "\n",
    "\n",
    "for ngram in threegrams_news:\n",
    "    word1, word2, word3 = ngram.split()\n",
    "    word1_word2 = ' '.join([word1, word2])\n",
    "    \n",
    "    matrix_news[bigram2id_news[word1_word2]][word2id_news[word3]] = (threegrams_news[ngram]/bigrams_news[word1_word2])"
   ]
  },
  {
   "cell_type": "code",
   "execution_count": 64,
   "id": "cdf33351",
   "metadata": {},
   "outputs": [],
   "source": [
    "matrix_dvach = np.zeros((len(bigrams_dvach), \n",
    "                         len(unigrams_dvach)), dtype='float32')\n",
    "\n",
    "id2word_dvach = list(unigrams_dvach)\n",
    "word2id_dvach = {word:i for i, word in enumerate(id2word_dvach)}\n",
    "\n",
    "id2bigram_dvach = list(bigrams_dvach)\n",
    "bigram2id_dvach = {bigram:i for i, bigram in enumerate(id2bigram_dvach)}\n",
    "\n",
    "\n",
    "for ngram in threegrams_dvach:\n",
    "    word1, word2, word3 = ngram.split()\n",
    "    word1_word2 = ' '.join([word1, word2])\n",
    "    \n",
    "    matrix_dvach[bigram2id_dvach[word1_word2]][word2id_dvach[word3]] = (threegrams_dvach[ngram]/bigrams_dvach[word1_word2])"
   ]
  },
  {
   "cell_type": "code",
   "execution_count": 93,
   "id": "70808c84",
   "metadata": {},
   "outputs": [],
   "source": [
    "text = []\n",
    "start='<start1> <start2>'\n",
    "n = 150\n",
    "\n",
    "for _ in range(n):\n",
    "    current_idx = bigram2id_dvach[start]\n",
    "    chosen = np.random.choice(matrix_dvach.shape[1], p=matrix_dvach[current_idx])\n",
    "    chosen_word = id2word_dvach[chosen]\n",
    "    text.append(chosen_word)\n",
    "    \n",
    "    start = ' '.join([start.split()[-1], chosen_word])\n",
    "\n",
    "    if id2word_dvach[chosen] == '<end>':\n",
    "        start = '<start1> <start2>'"
   ]
  },
  {
   "cell_type": "code",
   "execution_count": 94,
   "id": "e41cdd61",
   "metadata": {},
   "outputs": [
    {
     "name": "stdout",
     "output_type": "stream",
     "text": [
      "оп , подумай о том как ни странно , что с них патч установить , юзерскрипты , инетрфейс поменять ну и по остаточному принципу . \n",
      "\n",
      " воистину - контингент обр . \n",
      "\n",
      " на мой взгляд honor the dead лучше по внешности . \n",
      "\n",
      " ты засчитан , равноправный ты наш . \n",
      "\n",
      " быстро 1 решительно ! \n",
      "\n",
      " тут смотрю уже возбудились , ну и по прилеты теряешь . \n",
      "\n",
      " ездят на лексусах , а пидрила дырявая пиздец , аутисты . \n",
      "\n",
      " уходите здеся вам не завидно , что других она вообще то да , а кто это скинул ребенку , 13 дюймов , это не значит , что хочется видеть в детстве . \n",
      "\n",
      " в школе ато меланхолия степана бандеры самое забавное , что все нормально , а не физик ) , карусель на прошлой неделе , реверс-пораша как она сказала « некультурный ! » и « the brainstimulator » .\n"
     ]
    }
   ],
   "source": [
    "print(' '.join(text).replace('<end>', '\\n\\n'))"
   ]
  },
  {
   "cell_type": "code",
   "execution_count": 95,
   "id": "3299ad45",
   "metadata": {},
   "outputs": [],
   "source": [
    "text = []\n",
    "start='<start1> <start2>'\n",
    "\n",
    "for _ in range(n):\n",
    "    current_idx = bigram2id_news[start]\n",
    "    chosen = np.random.choice(matrix_news.shape[1], p=matrix_news[current_idx])\n",
    "    chosen_word = id2word_news[chosen]\n",
    "    text.append(chosen_word)\n",
    "    \n",
    "    start = ' '.join([start.split()[-1], chosen_word])\n",
    "\n",
    "    if id2word_news[chosen] == '<end>':\n",
    "        start = '<start1> <start2>'"
   ]
  },
  {
   "cell_type": "code",
   "execution_count": 96,
   "id": "5e92d6cf",
   "metadata": {},
   "outputs": [
    {
     "name": "stdout",
     "output_type": "stream",
     "text": [
      "после заседания цик он заявил , что быков был задержан 29 октября сообщил итар-тасс оперативный дежурный грозненского сельского района . \n",
      "\n",
      " как сообщило агентство военных новостей . \n",
      "\n",
      " хозяин домика и его жена считает ситуацию скорее обнадеживающей . \n",
      "\n",
      " здесь в пятницу британская газета the washington post в понедельник вице-губернатор города юрий лужков отклонил программу столичного правительства с лидерами всех думских фракций . \n",
      "\n",
      " кроме того , он предлагал продлить амнистию до 15 % мирового золотого запаса , а за ее пределами террористические акты и диверсии со стороны производителей табака , который высадился на заброшенной морской платформе недалеко от тайваня . \n",
      "\n",
      " выступивший на тех , кто никогда не обыскивал . \n",
      "\n",
      " закрылись также universal studios и seaworld . 27 человек . \n",
      "\n",
      " представитель посольства таджикистана в казахстане . \n",
      "\n",
      " по официальным данным , лидер красноярской краевой организации лдпр - подтвердил , что на население страны в последние годы не\n"
     ]
    }
   ],
   "source": [
    "print(' '.join(text).replace('<end>', '\\n\\n'))"
   ]
  },
  {
   "cell_type": "code",
   "execution_count": 69,
   "id": "c0639df9",
   "metadata": {},
   "outputs": [],
   "source": [
    "def perplexity(probas):\n",
    "    p = np.exp(np.sum(probas))\n",
    "    N = len(probas)\n",
    "    \n",
    "    return p**(-1/N) "
   ]
  },
  {
   "cell_type": "code",
   "execution_count": 70,
   "id": "45a3f41a",
   "metadata": {},
   "outputs": [],
   "source": [
    "def return_probs(sentence, type_):\n",
    "    prob = {'dvach': [], 'news': []}\n",
    "\n",
    "    for ngram in ngrammer(['<start1>', '<start2>'] + normalize(sentence) + ['<end>'], n=3):\n",
    "        word1, word2, word3 = ngram.split()\n",
    "        word1_word2 = ' '.join([word1, word2])\n",
    "\n",
    "        if word1_word2 in bigrams_dvach and ngram in threegrams_dvach:\n",
    "            prob['dvach'].append(np.log(threegrams_dvach[ngram]/bigrams_dvach[word1_word2]))\n",
    "        else:\n",
    "            prob['dvach'].append(np.log(2e-7))\n",
    "\n",
    "        if word1_word2 in bigrams_news and ngram in threegrams_news:\n",
    "            prob['news'].append(np.log(threegrams_news[ngram]/bigrams_news[word1_word2]))\n",
    "        else:\n",
    "            prob['news'].append(np.log(2e-7))\n",
    "            \n",
    "    if type_ == 'news':\n",
    "        return prob['news']\n",
    "    \n",
    "    elif type_ == 'dvach':\n",
    "        return prob['dvach']"
   ]
  },
  {
   "cell_type": "markdown",
   "id": "c895fa84",
   "metadata": {},
   "source": [
    "Рассчитаем perplexity для сгенерированных предложений:"
   ]
  },
  {
   "cell_type": "code",
   "execution_count": 82,
   "id": "60758ea4",
   "metadata": {},
   "outputs": [],
   "source": [
    "news_sentence = 'представитель штаба вмф рф поспешил сообщить \" интерфаксу \" начальник отдела экологии управления транспорта и связи городского правительства также внесло коррективы в свои дома на улице кравченко потушен .'\n",
    "dvach_sentence = 'всё это блокируют ахахахах ахахаха за что его вынесли , ох как понравились .'"
   ]
  },
  {
   "cell_type": "code",
   "execution_count": 83,
   "id": "d9f25528",
   "metadata": {},
   "outputs": [
    {
     "data": {
      "text/plain": [
       "(3.789835577160057, 6.482163112443042)"
      ]
     },
     "execution_count": 83,
     "metadata": {},
     "output_type": "execute_result"
    }
   ],
   "source": [
    "perplexity(return_probs(news_sentence, 'news')), perplexity(return_probs(dvach_sentence, 'dvach'))"
   ]
  },
  {
   "cell_type": "code",
   "execution_count": 86,
   "id": "6a3e72e8",
   "metadata": {},
   "outputs": [],
   "source": [
    "news_sentence = 'через некоторое время возглавлял парламент ичкерии , мурдашев был начальником лагеря в кератерме в 1992 году команду из страны в 1989 году .'\n",
    "dvach_sentence = 'у меня морозилка химическая которая -100 ебошит на нормале и эксперте мы видим их победоносные паутинные ограждения .'"
   ]
  },
  {
   "cell_type": "code",
   "execution_count": 87,
   "id": "70d53742",
   "metadata": {},
   "outputs": [
    {
     "data": {
      "text/plain": [
       "(3.2421486122428846, 2.6352024319788043)"
      ]
     },
     "execution_count": 87,
     "metadata": {},
     "output_type": "execute_result"
    }
   ],
   "source": [
    "perplexity(return_probs(news_sentence, 'news')), perplexity(return_probs(dvach_sentence, 'dvach'))"
   ]
  },
  {
   "cell_type": "code",
   "execution_count": 97,
   "id": "2e0fff0e",
   "metadata": {},
   "outputs": [],
   "source": [
    "news_sentence = 'здесь в пятницу британская газета the washington post в понедельник вице-губернатор города юрий лужков отклонил программу столичного правительства с лидерами всех думских фракций .'\n",
    "dvach_sentence = 'ездят на лексусах , а пидрила дырявая пиздец , аутисты .'"
   ]
  },
  {
   "cell_type": "code",
   "execution_count": 98,
   "id": "b4aab885",
   "metadata": {},
   "outputs": [
    {
     "data": {
      "text/plain": [
       "(6.701964088684786, 11.54639609465722)"
      ]
     },
     "execution_count": 98,
     "metadata": {},
     "output_type": "execute_result"
    }
   ],
   "source": [
    "perplexity(return_probs(news_sentence, 'news')), perplexity(return_probs(dvach_sentence, 'dvach'))"
   ]
  },
  {
   "cell_type": "markdown",
   "id": "ee909f98",
   "metadata": {},
   "source": [
    "Теперь рассчитаем perplexity на отложенной выборке:"
   ]
  },
  {
   "cell_type": "code",
   "execution_count": 90,
   "id": "729c6b19",
   "metadata": {},
   "outputs": [],
   "source": [
    "perplexity_dvach_lst = []\n",
    "\n",
    "for tokenized_sentence in test_sentences_dvach:\n",
    "    sentence = ' '.join(tokenized_sentence[2:-1][:40])\n",
    "    perplexity_val = perplexity(return_probs(sentence, 'dvach'))\n",
    "    perplexity_dvach_lst.append(perplexity_val)"
   ]
  },
  {
   "cell_type": "code",
   "execution_count": 91,
   "id": "ffcb1d07",
   "metadata": {},
   "outputs": [],
   "source": [
    "perplexity_news_lst = []\n",
    "\n",
    "for tokenized_sentence in test_sentences_news:\n",
    "    sentence = ' '.join(tokenized_sentence[2:-1][:40])\n",
    "    perplexity_val = perplexity(return_probs(sentence, 'news'))\n",
    "    perplexity_news_lst.append(perplexity_val)"
   ]
  },
  {
   "cell_type": "code",
   "execution_count": 92,
   "id": "442cb6d8",
   "metadata": {},
   "outputs": [
    {
     "data": {
      "text/plain": [
       "(317752.70952861983, 324329.2981623633)"
      ]
     },
     "execution_count": 92,
     "metadata": {},
     "output_type": "execute_result"
    }
   ],
   "source": [
    "np.mean(perplexity_news_lst), np.mean(perplexity_dvach_lst)"
   ]
  },
  {
   "cell_type": "markdown",
   "id": "8e0a8dd5",
   "metadata": {},
   "source": [
    "## Задание № 2* (2 балла). "
   ]
  },
  {
   "cell_type": "markdown",
   "id": "0b36c44b",
   "metadata": {},
   "source": [
    "Прочитайте главу про языковое моделирование в книге Журафски и Мартина - https://web.stanford.edu/~jurafsky/slp3/3.pdf"
   ]
  },
  {
   "cell_type": "markdown",
   "id": "5d9b1bd8",
   "metadata": {},
   "source": [
    "Развернуто (в пределах 1000 знаков) ответьте на вопросы (по-русски):"
   ]
  },
  {
   "cell_type": "markdown",
   "id": "0c2cf844",
   "metadata": {},
   "source": [
    "1. Что можно делать с проблемой несловарных слов? В семинаре мы просто использовали какое-то маленькое значение вероятности, а какие есть другие способы?\n",
    "\n",
    "<b>Существует два способа решения данной проблемы:\n",
    "\n",
    "<b>1) Ограничить размер словаря в трейн выборке; все слова, которые не попали в трейн выборку обозначить тегом (unk); считать вероятность данного токена на основе его встречаемости наравне с другими токенами.\n",
    "    \n",
    "<b>2) Второй способ похож на первый, только суть его заключается в том, что мы ограничиваем не какой-то произвольный словарь, а сначала выбираем словарь с N наиболее частотными словами, а все слова, которые не попали в эти N - мы обозначаем тегом (unk) - и дальше все по аналогии."
   ]
  },
  {
   "attachments": {
    "laplasse.png": {
     "image/png": "[encoded data removed]"
    }
   },
   "cell_type": "markdown",
   "id": "d1d1c152",
   "metadata": {},
   "source": [
    "2. Что такое сглаживание (smoothing)?\n",
    "\n",
    "\n",
    "<b>Представим, что слова, которые есть в тестовой выборке, встречаются в том контексте, в котором не встречались в обучающей выборке - логично, что вероятность встречаемости слова в таком контексте будет равно 0. Сглаживание нацелено на устранение этой проблемы. \n",
    "\n",
    "<b>Самым простым решением будет сдвиг на 1 всех счетчиков перед преобразованием их в вероятности, таким образом, что n-gram-а с нулевой встречаемостью будет обладать встречаемостью равной 1. Таким образом вероятностная масса распределится на все слова в словаре.\n",
    "\n",
    "![laplasse.png](attachment:laplasse.png)\n",
    "\n",
    "<b>Также можно добавлять специальный коэффициент k принимающий значения (0.5, 0.05, 001)"
   ]
  },
  {
   "attachments": {
    "addk.png": {
     "image/png": "[encoded data removed]"
    }
   },
   "cell_type": "markdown",
   "id": "d6f4c2bb",
   "metadata": {},
   "source": [
    "![addk.png](attachment:addk.png)"
   ]
  },
  {
   "cell_type": "code",
   "execution_count": null,
   "id": "f34eeba7",
   "metadata": {},
   "outputs": [],
   "source": []
  }
 ],
 "metadata": {
  "kernelspec": {
   "display_name": "Python 3",
   "language": "python",
   "name": "python3"
  },
  "language_info": {
   "codemirror_mode": {
    "name": "ipython",
    "version": 3
   },
   "file_extension": ".py",
   "mimetype": "text/x-python",
   "name": "python",
   "nbconvert_exporter": "python",
   "pygments_lexer": "ipython3",
   "version": "3.8.10"
  }
 },
 "nbformat": 4,
 "nbformat_minor": 5
}
