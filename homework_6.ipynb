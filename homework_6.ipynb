{
 "cells": [
  {
   "cell_type": "markdown",
   "id": "9c422aa0",
   "metadata": {},
   "source": [
    "# Задание 1 (3 балла)"
   ]
  },
  {
   "cell_type": "markdown",
   "id": "e4a72790",
   "metadata": {},
   "source": [
    "Обучите word2vec модели с негативным семплированием (cbow и skip-gram) с помощью tensorflow аналогично тому, как это было сделано в семинаре. Вам нужно изменить следующие пункты: \n",
    "1) добавьте лемматизацию в предобработку (любым способом)  \n",
    "2) измените размер окна на 6 для cbow и 12 для skip gram (обратите внимание, что размер окна = #слов слева + #слов справа, в gen_batches в семинаре window не так используется)  \n",
    "3) измените часть с np.random.randint(vocab_size) так, чтобы случайные негативные примеры выбирались обратно пропорционально частотностям слов (частотные должны выбираться реже, а редкие чаще)\n",
    "\n",
    "Выберете несколько не похожих по смыслу слов, и протестируйте полученные эмбединги (найдите ближайшие слова и оцените правильность, как в семинаре)"
   ]
  },
  {
   "cell_type": "code",
   "execution_count": 4,
   "id": "4f71d7cb",
   "metadata": {},
   "outputs": [
    {
     "name": "stderr",
     "output_type": "stream",
     "text": [
      "/home/nanosemantics/.local/lib/python3.8/site-packages/sklearn/linear_model/least_angle.py:30: DeprecationWarning: `np.float` is a deprecated alias for the builtin `float`. To silence this warning, use `float` by itself. Doing this will not modify any behavior and is safe. If you specifically wanted the numpy scalar type, use `np.float64` here.\n",
      "Deprecated in NumPy 1.20; for more details and guidance: https://numpy.org/devdocs/release/1.20.0-notes.html#deprecations\n",
      "  method='lar', copy_X=True, eps=np.finfo(np.float).eps,\n",
      "/home/nanosemantics/.local/lib/python3.8/site-packages/sklearn/linear_model/least_angle.py:167: DeprecationWarning: `np.float` is a deprecated alias for the builtin `float`. To silence this warning, use `float` by itself. Doing this will not modify any behavior and is safe. If you specifically wanted the numpy scalar type, use `np.float64` here.\n",
      "Deprecated in NumPy 1.20; for more details and guidance: https://numpy.org/devdocs/release/1.20.0-notes.html#deprecations\n",
      "  method='lar', copy_X=True, eps=np.finfo(np.float).eps,\n",
      "/home/nanosemantics/.local/lib/python3.8/site-packages/sklearn/linear_model/least_angle.py:284: DeprecationWarning: `np.float` is a deprecated alias for the builtin `float`. To silence this warning, use `float` by itself. Doing this will not modify any behavior and is safe. If you specifically wanted the numpy scalar type, use `np.float64` here.\n",
      "Deprecated in NumPy 1.20; for more details and guidance: https://numpy.org/devdocs/release/1.20.0-notes.html#deprecations\n",
      "  eps=np.finfo(np.float).eps, copy_Gram=True, verbose=0,\n",
      "/home/nanosemantics/.local/lib/python3.8/site-packages/sklearn/linear_model/least_angle.py:862: DeprecationWarning: `np.float` is a deprecated alias for the builtin `float`. To silence this warning, use `float` by itself. Doing this will not modify any behavior and is safe. If you specifically wanted the numpy scalar type, use `np.float64` here.\n",
      "Deprecated in NumPy 1.20; for more details and guidance: https://numpy.org/devdocs/release/1.20.0-notes.html#deprecations\n",
      "  eps=np.finfo(np.float).eps, copy_X=True, fit_path=True,\n",
      "/home/nanosemantics/.local/lib/python3.8/site-packages/sklearn/linear_model/least_angle.py:1101: DeprecationWarning: `np.float` is a deprecated alias for the builtin `float`. To silence this warning, use `float` by itself. Doing this will not modify any behavior and is safe. If you specifically wanted the numpy scalar type, use `np.float64` here.\n",
      "Deprecated in NumPy 1.20; for more details and guidance: https://numpy.org/devdocs/release/1.20.0-notes.html#deprecations\n",
      "  eps=np.finfo(np.float).eps, copy_X=True, fit_path=True,\n",
      "/home/nanosemantics/.local/lib/python3.8/site-packages/sklearn/linear_model/least_angle.py:1127: DeprecationWarning: `np.float` is a deprecated alias for the builtin `float`. To silence this warning, use `float` by itself. Doing this will not modify any behavior and is safe. If you specifically wanted the numpy scalar type, use `np.float64` here.\n",
      "Deprecated in NumPy 1.20; for more details and guidance: https://numpy.org/devdocs/release/1.20.0-notes.html#deprecations\n",
      "  eps=np.finfo(np.float).eps, positive=False):\n",
      "/home/nanosemantics/.local/lib/python3.8/site-packages/sklearn/linear_model/least_angle.py:1362: DeprecationWarning: `np.float` is a deprecated alias for the builtin `float`. To silence this warning, use `float` by itself. Doing this will not modify any behavior and is safe. If you specifically wanted the numpy scalar type, use `np.float64` here.\n",
      "Deprecated in NumPy 1.20; for more details and guidance: https://numpy.org/devdocs/release/1.20.0-notes.html#deprecations\n",
      "  max_n_alphas=1000, n_jobs=None, eps=np.finfo(np.float).eps,\n",
      "/home/nanosemantics/.local/lib/python3.8/site-packages/sklearn/linear_model/least_angle.py:1602: DeprecationWarning: `np.float` is a deprecated alias for the builtin `float`. To silence this warning, use `float` by itself. Doing this will not modify any behavior and is safe. If you specifically wanted the numpy scalar type, use `np.float64` here.\n",
      "Deprecated in NumPy 1.20; for more details and guidance: https://numpy.org/devdocs/release/1.20.0-notes.html#deprecations\n",
      "  max_n_alphas=1000, n_jobs=None, eps=np.finfo(np.float).eps,\n",
      "/home/nanosemantics/.local/lib/python3.8/site-packages/sklearn/linear_model/least_angle.py:1738: DeprecationWarning: `np.float` is a deprecated alias for the builtin `float`. To silence this warning, use `float` by itself. Doing this will not modify any behavior and is safe. If you specifically wanted the numpy scalar type, use `np.float64` here.\n",
      "Deprecated in NumPy 1.20; for more details and guidance: https://numpy.org/devdocs/release/1.20.0-notes.html#deprecations\n",
      "  eps=np.finfo(np.float).eps, copy_X=True, positive=False):\n",
      "/home/nanosemantics/.local/lib/python3.8/site-packages/sklearn/decomposition/online_lda.py:29: DeprecationWarning: `np.float` is a deprecated alias for the builtin `float`. To silence this warning, use `float` by itself. Doing this will not modify any behavior and is safe. If you specifically wanted the numpy scalar type, use `np.float64` here.\n",
      "Deprecated in NumPy 1.20; for more details and guidance: https://numpy.org/devdocs/release/1.20.0-notes.html#deprecations\n",
      "  EPS = np.finfo(np.float).eps\n",
      "/home/nanosemantics/.local/lib/python3.8/site-packages/sklearn/feature_extraction/image.py:167: DeprecationWarning: `np.int` is a deprecated alias for the builtin `int`. To silence this warning, use `int` by itself. Doing this will not modify any behavior and is safe. When replacing `np.int`, you may wish to use e.g. `np.int64` or `np.int32` to specify the precision. If you wish to review your current use, check the release note link for additional information.\n",
      "Deprecated in NumPy 1.20; for more details and guidance: https://numpy.org/devdocs/release/1.20.0-notes.html#deprecations\n",
      "  dtype=np.int):\n"
     ]
    }
   ],
   "source": [
    "import tensorflow as tf\n",
    "import re\n",
    "import numpy as np\n",
    "import pandas as pd\n",
    "from string import punctuation\n",
    "from sklearn.model_selection import train_test_split\n",
    "from collections import Counter\n",
    "import matplotlib.pyplot as plt\n",
    "from sklearn.decomposition import TruncatedSVD\n",
    "from sklearn.feature_extraction.text import CountVectorizer\n",
    "from sklearn.metrics.pairwise import cosine_distances\n",
    "from razdel import tokenize\n",
    "import pymorphy2\n",
    "\n",
    "from IPython.display import Image\n",
    "from IPython.core.display import HTML \n",
    "%matplotlib inline"
   ]
  },
  {
   "cell_type": "code",
   "execution_count": 5,
   "id": "fe7ed896",
   "metadata": {},
   "outputs": [],
   "source": [
    "morph = pymorphy2.MorphAnalyzer()\n",
    "data = open('wiki_data.txt', encoding='utf-8').read().splitlines()"
   ]
  },
  {
   "cell_type": "markdown",
   "id": "a9e32219",
   "metadata": {},
   "source": [
    "Добавим в препроцессинг лемматизацию:"
   ]
  },
  {
   "cell_type": "code",
   "execution_count": 6,
   "id": "a4ea72c4",
   "metadata": {},
   "outputs": [],
   "source": [
    "def preprocess(text):\n",
    "    text = re.sub(r'[_—–-]+', ' ', text)\n",
    "    normalized_text = [word.text.strip(punctuation) for word in tokenize(text)]\n",
    "    normalized_text = [word.lower() for word in normalized_text if word and word not in punctuation]\n",
    "    normalized_text = [morph.parse(word)[0].normal_form for word in normalized_text]\n",
    "    return normalized_text"
   ]
  },
  {
   "cell_type": "markdown",
   "id": "8e5f9aa9",
   "metadata": {},
   "source": [
    "Составим словарь и отфильтруем значения по частотности:"
   ]
  },
  {
   "cell_type": "code",
   "execution_count": 7,
   "id": "4174233b",
   "metadata": {},
   "outputs": [],
   "source": [
    "vocab = Counter()\n",
    "\n",
    "for text in data:\n",
    "    vocab.update(preprocess(text))"
   ]
  },
  {
   "cell_type": "code",
   "execution_count": 8,
   "id": "5df09bdb",
   "metadata": {},
   "outputs": [],
   "source": [
    "filtered_vocab = {word: freq for word, freq in dict(vocab).items() if freq > 30}"
   ]
  },
  {
   "cell_type": "code",
   "execution_count": 9,
   "id": "e7560d20",
   "metadata": {},
   "outputs": [],
   "source": [
    "word2id = {'PAD': 0}\n",
    "\n",
    "for word in filtered_vocab.keys():\n",
    "    word2id[word] = len(word2id)"
   ]
  },
  {
   "cell_type": "code",
   "execution_count": 10,
   "id": "afd3043e",
   "metadata": {},
   "outputs": [],
   "source": [
    "id2word = {i:word for word, i in word2id.items()}"
   ]
  },
  {
   "cell_type": "markdown",
   "id": "8eaf34c4",
   "metadata": {},
   "source": [
    "Это понадобится для изменения сэмплинга"
   ]
  },
  {
   "cell_type": "code",
   "execution_count": 11,
   "id": "3dda2db6",
   "metadata": {},
   "outputs": [],
   "source": [
    "def inv_p(vocab, word):\n",
    "    return sum(vocab.values())/vocab[word]"
   ]
  },
  {
   "cell_type": "code",
   "execution_count": 12,
   "id": "ee912b33",
   "metadata": {},
   "outputs": [],
   "source": [
    "id2prob = {id_: inv_p(filtered_vocab, word) if word != 'PAD' else 0 for id_, word in id2word.items()}"
   ]
  },
  {
   "cell_type": "code",
   "execution_count": 13,
   "id": "81b432db",
   "metadata": {},
   "outputs": [],
   "source": [
    "probs = np.array(list(id2prob.values()))"
   ]
  },
  {
   "cell_type": "code",
   "execution_count": 14,
   "id": "33ddc07a",
   "metadata": {},
   "outputs": [
    {
     "data": {
      "text/plain": [
       "array([     0.        ,  15939.42808219,    472.1835244 , ...,\n",
       "        80246.77586207, 108239.8372093 , 136891.55882353])"
      ]
     },
     "execution_count": 14,
     "metadata": {},
     "output_type": "execute_result"
    }
   ],
   "source": [
    "probs"
   ]
  },
  {
   "cell_type": "code",
   "execution_count": 15,
   "id": "c4812469",
   "metadata": {},
   "outputs": [],
   "source": [
    "import seaborn as sns\n",
    "import matplotlib.pyplot as plt\n",
    "from torch import softmax\n",
    "import torch\n",
    "%matplotlib inline"
   ]
  },
  {
   "cell_type": "code",
   "execution_count": 16,
   "id": "525f2aa4",
   "metadata": {},
   "outputs": [],
   "source": [
    "inverse_probs = softmax(torch.tensor((probs - np.min(probs)) / (np.max(probs) - np.min(probs))), dim=0)"
   ]
  },
  {
   "cell_type": "code",
   "execution_count": 17,
   "id": "d752ba55",
   "metadata": {},
   "outputs": [
    {
     "name": "stderr",
     "output_type": "stream",
     "text": [
      "/usr/local/lib/python3.8/dist-packages/seaborn/distributions.py:2619: FutureWarning: `distplot` is a deprecated function and will be removed in a future version. Please adapt your code to use either `displot` (a figure-level function with similar flexibility) or `histplot` (an axes-level function for histograms).\n",
      "  warnings.warn(msg, FutureWarning)\n"
     ]
    },
    {
     "data": {
      "text/plain": [
       "<AxesSubplot:ylabel='Density'>"
      ]
     },
     "execution_count": 17,
     "metadata": {},
     "output_type": "execute_result"
    },
    {
     "data": {
      "image/png": "[encoded data removed]",
      "text/plain": [
       "<Figure size 432x288 with 1 Axes>"
      ]
     },
     "metadata": {
      "needs_background": "light"
     },
     "output_type": "display_data"
    }
   ],
   "source": [
    "sns.distplot(inverse_probs)"
   ]
  },
  {
   "cell_type": "markdown",
   "id": "80019087",
   "metadata": {},
   "source": [
    "Тексты переведем в набор id"
   ]
  },
  {
   "cell_type": "code",
   "execution_count": 18,
   "id": "3dffcb26",
   "metadata": {},
   "outputs": [],
   "source": [
    "sentences = []\n",
    "\n",
    "for text in data:\n",
    "    tokens = preprocess(text)\n",
    "    ids = [word2id[token] for token in tokens if token in word2id]\n",
    "    sentences.append(ids)"
   ]
  },
  {
   "cell_type": "code",
   "execution_count": 187,
   "id": "9f769af5",
   "metadata": {},
   "outputs": [],
   "source": []
  },
  {
   "cell_type": "code",
   "execution_count": 188,
   "id": "d3356146",
   "metadata": {},
   "outputs": [],
   "source": []
  },
  {
   "cell_type": "code",
   "execution_count": 189,
   "id": "2bb8ceb8",
   "metadata": {},
   "outputs": [],
   "source": []
  },
  {
   "cell_type": "code",
   "execution_count": 197,
   "id": "cda7b6f1",
   "metadata": {},
   "outputs": [],
   "source": [
    "embeddings_1 = model.layers[0].get_weights()[0]\n",
    "embeddings_2 = model.layers[2].get_weights()[0].T\n",
    "embeddings = np.mean([embeddings_1, embeddings_2], axis=0)"
   ]
  },
  {
   "cell_type": "code",
   "execution_count": 198,
   "id": "8a3fa3e9",
   "metadata": {},
   "outputs": [],
   "source": [
    "embeddings = np.mean([embeddings_1, embeddings_2], axis=0)"
   ]
  },
  {
   "cell_type": "code",
   "execution_count": 199,
   "id": "4e792fa8",
   "metadata": {},
   "outputs": [
    {
     "data": {
      "text/plain": [
       "['россия',\n",
       " 'учение',\n",
       " 'наследовать',\n",
       " 'принять',\n",
       " '75',\n",
       " 'шайба',\n",
       " 'дикобраз',\n",
       " 'семьдесят',\n",
       " 'ель',\n",
       " 'крышка']"
      ]
     },
     "execution_count": 199,
     "metadata": {},
     "output_type": "execute_result"
    }
   ],
   "source": [
    "most_similar('россия', embeddings)"
   ]
  },
  {
   "cell_type": "markdown",
   "id": "912575eb",
   "metadata": {},
   "source": [
    "Заменили в функции gen_batches способ выбора негативных примеров на вероятности inverse_probs, и window"
   ]
  },
  {
   "cell_type": "code",
   "execution_count": 19,
   "id": "1e83dfd2",
   "metadata": {},
   "outputs": [],
   "source": [
    "vocab_size = probs.shape[0]"
   ]
  },
  {
   "cell_type": "code",
   "execution_count": 20,
   "id": "ac2ec6bf",
   "metadata": {},
   "outputs": [],
   "source": [
    "# skip gram\n",
    "def modified_gen_batches_sg(sentences, window = 5, batch_size=1000):\n",
    "    while True:\n",
    "        X_target = []\n",
    "        X_context = []\n",
    "        y = []\n",
    "        \n",
    "        indent = window // 2\n",
    "        \n",
    "        for sent in sentences:\n",
    "            for i in range(indent, len(sent)-1):\n",
    "                word = sent[i]\n",
    "                context = sent[i-indent:i] + sent[i+1:i+indent]\n",
    "                for context_word in context:\n",
    "                    X_target.append(word)\n",
    "                    X_context.append(context_word)\n",
    "                    y.append(1)\n",
    "                    \n",
    "                    X_target.append(word)\n",
    "                    X_context.append(np.random.choice(range(vocab_size), p=inverse_probs))\n",
    "                    y.append(0)\n",
    "                    \n",
    "                    if len(X_target) >= batch_size:\n",
    "                        X_target = np.array(X_target)\n",
    "                        X_context = np.array(X_context)\n",
    "                        y = np.array(y)\n",
    "                        yield ((X_target, X_context), y)\n",
    "                        X_target = []\n",
    "                        X_context = []\n",
    "                        y = []\n",
    "                        \n",
    "# оригинальная функция skip gram\n",
    "def gen_batches_sg(sentences, window = 5, batch_size=1000):\n",
    "    while True:\n",
    "        X_target = []\n",
    "        X_context = []\n",
    "        y = []\n",
    "\n",
    "        for sent in sentences:\n",
    "            for i in range(len(sent)-1):\n",
    "                word = sent[i]\n",
    "                context = sent[max(0, i-window):i] + sent[i+1:i+window]\n",
    "                for context_word in context:\n",
    "                    X_target.append(word)\n",
    "                    X_context.append(context_word)\n",
    "                    y.append(1)\n",
    "                    \n",
    "                    X_target.append(word)\n",
    "                    X_context.append(np.random.randint(vocab_size))\n",
    "                    y.append(0)\n",
    "                    \n",
    "                    if len(X_target) >= batch_size:\n",
    "                        X_target = np.array(X_target)\n",
    "                        X_context = np.array(X_context)\n",
    "                        y = np.array(y)\n",
    "                        yield ((X_target, X_context), y)\n",
    "                        X_target = []\n",
    "                        X_context = []\n",
    "                        y = []\n"
   ]
  },
  {
   "cell_type": "code",
   "execution_count": 84,
   "id": "ff7eda52",
   "metadata": {},
   "outputs": [],
   "source": [
    "def modified_gen_batches_cbow(sentences, window = 5, batch_size=1000):\n",
    "    while True:\n",
    "        X_target = []\n",
    "        X_context = []\n",
    "        y = []\n",
    "        indent = window // 2\n",
    "        \n",
    "        for sent in sentences:\n",
    "            for i in range(indent, len(sent)-1):\n",
    "                word = sent[i]\n",
    "                context = sent[i-indent:i] + sent[i+1:i+indent]\n",
    "\n",
    "                X_target.append(word)\n",
    "                X_context.append(context)\n",
    "                y.append(1)\n",
    "                \n",
    "                X_target.append(np.random.choice(vocab_size, p=inverse_probs))\n",
    "                X_context.append(context)\n",
    "                y.append(0)\n",
    "\n",
    "                if len(X_target) == batch_size:\n",
    "                    X_target = np.array(X_target)\n",
    "                    X_context = tf.keras.preprocessing.sequence.pad_sequences(X_context, maxlen=window*2)\n",
    "                    y = np.array(y)\n",
    "                    yield ((X_target, X_context), y)\n",
    "                    X_target = []\n",
    "                    X_context = []\n",
    "                    y = []\n",
    "                    \n",
    "def gen_batches_cbow(sentences, window = 5, batch_size=1000):\n",
    "    while True:\n",
    "        X_target = []\n",
    "        X_context = []\n",
    "        y = []\n",
    "\n",
    "        for sent in sentences:\n",
    "            for i in range(len(sent)-1):\n",
    "                word = sent[i]\n",
    "                context = sent[max(0, i-window):i] + sent[i+1:i+window]\n",
    "\n",
    "                X_target.append(word)\n",
    "                X_context.append(context)\n",
    "                y.append(1)\n",
    "                \n",
    "                X_target.append(np.random.randint(vocab_size))\n",
    "                X_context.append(context)\n",
    "                y.append(0)\n",
    "\n",
    "                if len(X_target) == batch_size:\n",
    "                    X_target = np.array(X_target)\n",
    "                    X_context = tf.keras.preprocessing.sequence.pad_sequences(X_context, maxlen=window*2)\n",
    "                    y = np.array(y)\n",
    "                    yield ((X_target, X_context), y)\n",
    "                    X_target = []\n",
    "                    X_context = []\n",
    "                    y = []"
   ]
  },
  {
   "cell_type": "code",
   "execution_count": 85,
   "id": "32a4c8d0",
   "metadata": {},
   "outputs": [],
   "source": [
    "inputs_target = tf.keras.layers.Input(shape=(1,))\n",
    "inputs_context = tf.keras.layers.Input(shape=(1,))\n",
    "\n",
    "embeddings_target = tf.keras.layers.Embedding(input_dim=len(word2id), output_dim=300)(inputs_target, )\n",
    "embeddings_context = tf.keras.layers.Embedding(input_dim=len(word2id), output_dim=300)(inputs_context, )\n",
    "\n",
    "target = tf.keras.layers.Flatten()(embeddings_target)\n",
    "context = tf.keras.layers.Flatten()(embeddings_context)\n",
    "\n",
    "dot = tf.keras.layers.Dot(1)([target, context])\n",
    "outputs = tf.keras.layers.Activation(activation='sigmoid')(dot)\n",
    "\n",
    "optimizer = tf.keras.optimizers.Adam(learning_rate=0.001)"
   ]
  },
  {
   "cell_type": "code",
   "execution_count": 86,
   "id": "a0aab58f",
   "metadata": {},
   "outputs": [
    {
     "name": "stdout",
     "output_type": "stream",
     "text": [
      "Epoch 1/2\n",
      "1000/1000 [==============================] - 4s 3ms/step - loss: 0.5628 - accuracy: 0.7155 - val_loss: 0.5827 - val_accuracy: 0.6864\n",
      "Epoch 2/2\n",
      "1000/1000 [==============================] - 3s 3ms/step - loss: 0.4595 - accuracy: 0.7820 - val_loss: 0.5672 - val_accuracy: 0.7089\n"
     ]
    },
    {
     "data": {
      "text/plain": [
       "<keras.callbacks.History at 0x7feac443c4f0>"
      ]
     },
     "execution_count": 86,
     "metadata": {},
     "output_type": "execute_result"
    }
   ],
   "source": [
    "model_sg_orig = tf.keras.Model(inputs=[inputs_target, inputs_context], \n",
    "                       outputs=outputs)\n",
    "\n",
    "model_sg_orig.compile(optimizer=optimizer,\n",
    "              loss='binary_crossentropy',\n",
    "              metrics=['accuracy'])\n",
    "\n",
    "model_sg_orig.fit(gen_batches_sg(sentences[:19000], window=12),\n",
    "          validation_data=gen_batches_sg(sentences[19000:], window=12),\n",
    "          batch_size=1000,\n",
    "          steps_per_epoch=1000,\n",
    "          validation_steps=50,\n",
    "         epochs=2)"
   ]
  },
  {
   "cell_type": "code",
   "execution_count": 87,
   "id": "e6eb2e55",
   "metadata": {},
   "outputs": [
    {
     "name": "stdout",
     "output_type": "stream",
     "text": [
      "Epoch 1/2\n",
      "1000/1000 [==============================] - 539s 539ms/step - loss: 0.3239 - accuracy: 0.8513 - val_loss: 0.5532 - val_accuracy: 0.7383\n",
      "Epoch 2/2\n",
      "1000/1000 [==============================] - 538s 538ms/step - loss: 0.4379 - accuracy: 0.8047 - val_loss: 0.4424 - val_accuracy: 0.8036\n"
     ]
    },
    {
     "data": {
      "text/plain": [
       "<keras.callbacks.History at 0x7feac41fa3a0>"
      ]
     },
     "execution_count": 87,
     "metadata": {},
     "output_type": "execute_result"
    }
   ],
   "source": [
    "model_sg_mod = tf.keras.Model(inputs=[inputs_target, inputs_context], \n",
    "                       outputs=outputs)\n",
    "\n",
    "model_sg_mod.compile(optimizer=optimizer,\n",
    "              loss='binary_crossentropy',\n",
    "              metrics=['accuracy'])\n",
    "\n",
    "model_sg_mod.fit(modified_gen_batches_sg(sentences[:19000], window=12),\n",
    "          validation_data=modified_gen_batches_sg(sentences[19000:], window=12),\n",
    "          batch_size=1000,\n",
    "          steps_per_epoch=1000,\n",
    "          validation_steps=50,\n",
    "         epochs=2)"
   ]
  },
  {
   "cell_type": "code",
   "execution_count": 28,
   "id": "d00add5e",
   "metadata": {},
   "outputs": [],
   "source": [
    "#cbow negative sampling\n",
    "inputs_target = tf.keras.layers.Input(shape=(1,))\n",
    "inputs_context = tf.keras.layers.Input(shape=(10,))\n",
    "\n",
    "embeddings_target = tf.keras.layers.Embedding(input_dim=len(word2id), output_dim=300)(inputs_target, )\n",
    "embeddings_context = tf.keras.layers.Embedding(input_dim=len(word2id), output_dim=300)(inputs_context, )\n",
    "\n",
    "target = tf.keras.layers.Flatten()(embeddings_target)\n",
    "context = tf.keras.layers.Lambda(lambda x: tf.keras.backend.sum(x, axis=1))(embeddings_context)\n",
    "dot = tf.keras.layers.Dot(1)([target, context])\n",
    "\n",
    "outputs = tf.keras.layers.Activation(activation='sigmoid')(dot)\n",
    "\n",
    "\n",
    "optimizer = tf.keras.optimizers.Adam(learning_rate=0.001)"
   ]
  },
  {
   "cell_type": "code",
   "execution_count": 35,
   "id": "545fcabb",
   "metadata": {},
   "outputs": [
    {
     "name": "stdout",
     "output_type": "stream",
     "text": [
      "Epoch 1/4\n",
      "1000/1000 [==============================] - 6s 6ms/step - loss: 0.1579 - accuracy: 0.9411 - val_loss: 0.3211 - val_accuracy: 0.8817\n",
      "Epoch 2/4\n",
      "1000/1000 [==============================] - 6s 6ms/step - loss: 0.1506 - accuracy: 0.9442 - val_loss: 0.3449 - val_accuracy: 0.8756\n",
      "Epoch 3/4\n",
      "1000/1000 [==============================] - 6s 6ms/step - loss: 0.2102 - accuracy: 0.9159 - val_loss: 0.3262 - val_accuracy: 0.8788\n",
      "Epoch 4/4\n",
      "1000/1000 [==============================] - 6s 6ms/step - loss: 0.2049 - accuracy: 0.9179 - val_loss: 0.2862 - val_accuracy: 0.8941\n"
     ]
    },
    {
     "data": {
      "text/plain": [
       "<keras.callbacks.History at 0x7feb34096ca0>"
      ]
     },
     "execution_count": 35,
     "metadata": {},
     "output_type": "execute_result"
    }
   ],
   "source": [
    "model_cbow_orig = tf.keras.Model(inputs=[inputs_target, inputs_context], \n",
    "                       outputs=outputs)\n",
    "\n",
    "model_cbow_orig.compile(optimizer=optimizer,\n",
    "              loss='binary_crossentropy',\n",
    "              metrics=['accuracy'])\n",
    "\n",
    "model_cbow_orig.fit(gen_batches_cbow(sentences[:19000], window=6),\n",
    "          validation_data=gen_batches_cbow(sentences[19000:],  window=6),\n",
    "          batch_size=1000,\n",
    "          steps_per_epoch=1000,\n",
    "          validation_steps=100,\n",
    "         epochs=4)"
   ]
  },
  {
   "cell_type": "code",
   "execution_count": 36,
   "id": "cd4ef59a",
   "metadata": {},
   "outputs": [
    {
     "name": "stdout",
     "output_type": "stream",
     "text": [
      "Epoch 1/4\n",
      "1000/1000 [==============================] - 75s 75ms/step - loss: 0.1388 - accuracy: 0.9509 - val_loss: 0.2963 - val_accuracy: 0.8921\n",
      "Epoch 2/4\n",
      "1000/1000 [==============================] - 75s 75ms/step - loss: 0.1345 - accuracy: 0.9523 - val_loss: 0.3198 - val_accuracy: 0.8853\n",
      "Epoch 3/4\n",
      "1000/1000 [==============================] - 75s 75ms/step - loss: 0.1652 - accuracy: 0.9352 - val_loss: 0.3601 - val_accuracy: 0.8824\n",
      "Epoch 4/4\n",
      "1000/1000 [==============================] - 75s 75ms/step - loss: 0.1637 - accuracy: 0.9356 - val_loss: 0.3323 - val_accuracy: 0.8957\n"
     ]
    },
    {
     "data": {
      "text/plain": [
       "<keras.callbacks.History at 0x7feb202f68e0>"
      ]
     },
     "execution_count": 36,
     "metadata": {},
     "output_type": "execute_result"
    }
   ],
   "source": [
    "model_cbow_mod = tf.keras.Model(inputs=[inputs_target, inputs_context], \n",
    "                       outputs=outputs)\n",
    "\n",
    "model_cbow_mod.compile(optimizer=optimizer,\n",
    "              loss='binary_crossentropy',\n",
    "              metrics=['accuracy'])\n",
    "\n",
    "model_cbow_mod.fit(modified_gen_batches_cbow(sentences[:19000], window=6),\n",
    "          validation_data=gen_batches_cbow(sentences[19000:],  window=6),\n",
    "          batch_size=1000,\n",
    "          steps_per_epoch=1000,\n",
    "          validation_steps=100,\n",
    "         epochs=4)"
   ]
  },
  {
   "cell_type": "markdown",
   "id": "2d93c248",
   "metadata": {},
   "source": [
    "Качество на модифицированных вариантах по метрикам немного лучше."
   ]
  },
  {
   "cell_type": "code",
   "execution_count": 69,
   "id": "60273f90",
   "metadata": {},
   "outputs": [],
   "source": [
    "def get_embeddings(model):\n",
    "    embeddings_1 = model.layers[2].get_weights()[0]\n",
    "    embeddings_2 = model.layers[3].get_weights()[0]\n",
    "    embeddings = np.mean([embeddings_1, embeddings_2], axis=0)\n",
    "    return embeddings"
   ]
  },
  {
   "cell_type": "code",
   "execution_count": 44,
   "id": "d640bc9a",
   "metadata": {},
   "outputs": [],
   "source": [
    "def most_similar(word, embeddings):\n",
    "    similar = [id2word[i] for i in \n",
    "               cosine_distances(embeddings[word2id[word]].reshape(1, -1), embeddings).argsort()[0][:10]]\n",
    "    return similar"
   ]
  },
  {
   "cell_type": "code",
   "execution_count": 143,
   "id": "ec6a6f08",
   "metadata": {},
   "outputs": [
    {
     "data": {
      "text/plain": [
       "['пигмент',\n",
       " 'автобиографический',\n",
       " 'стул',\n",
       " 'партнёрство',\n",
       " 'костромской',\n",
       " 'конюшня',\n",
       " 'байкал',\n",
       " 'джеральд',\n",
       " 'аида',\n",
       " 'пониматься']"
      ]
     },
     "execution_count": 143,
     "metadata": {},
     "output_type": "execute_result"
    }
   ],
   "source": [
    "most_similar('пигмент', model_sg_orig.layers[2].get_weights()[0])"
   ]
  },
  {
   "cell_type": "code",
   "execution_count": 144,
   "id": "6d8a2320",
   "metadata": {},
   "outputs": [
    {
     "data": {
      "text/plain": [
       "['пигмент',\n",
       " 'автобиографический',\n",
       " 'стул',\n",
       " 'партнёрство',\n",
       " 'костромской',\n",
       " 'конюшня',\n",
       " 'байкал',\n",
       " 'джеральд',\n",
       " 'аида',\n",
       " 'пониматься']"
      ]
     },
     "execution_count": 144,
     "metadata": {},
     "output_type": "execute_result"
    }
   ],
   "source": [
    "most_similar('пигмент', model_sg_mod.layers[2].get_weights()[0])"
   ]
  },
  {
   "cell_type": "markdown",
   "id": "2000ff4f",
   "metadata": {},
   "source": [
    "Тоже самое."
   ]
  },
  {
   "cell_type": "code",
   "execution_count": 134,
   "id": "0c789813",
   "metadata": {},
   "outputs": [
    {
     "data": {
      "text/plain": [
       "[<keras.engine.input_layer.InputLayer at 0x7feb207ae280>,\n",
       " <keras.engine.input_layer.InputLayer at 0x7feb207a65b0>,\n",
       " <keras.layers.embeddings.Embedding at 0x7feb20783a90>,\n",
       " <keras.layers.embeddings.Embedding at 0x7feb207a6310>,\n",
       " <keras.layers.core.flatten.Flatten at 0x7feb207c5b50>,\n",
       " <keras.layers.core.lambda_layer.Lambda at 0x7feb2079a070>,\n",
       " <keras.layers.merge.Dot at 0x7feb207a60d0>,\n",
       " <keras.layers.core.activation.Activation at 0x7feb207c8fa0>]"
      ]
     },
     "execution_count": 134,
     "metadata": {},
     "output_type": "execute_result"
    }
   ],
   "source": [
    "model_cbow_orig.layers"
   ]
  },
  {
   "cell_type": "code",
   "execution_count": 145,
   "id": "9dc4854e",
   "metadata": {},
   "outputs": [
    {
     "data": {
      "text/plain": [
       "['пигмент',\n",
       " 'мажорный',\n",
       " 'самоповреждение',\n",
       " 'заветинский',\n",
       " 'филамент',\n",
       " 'fretilin',\n",
       " 'григорашвили',\n",
       " 'гау',\n",
       " 'прожа',\n",
       " 'уэмбль']"
      ]
     },
     "execution_count": 145,
     "metadata": {},
     "output_type": "execute_result"
    }
   ],
   "source": [
    "most_similar('пигмент', model_cbow_orig.layers[2].get_weights()[0])"
   ]
  },
  {
   "cell_type": "code",
   "execution_count": 146,
   "id": "7d37be9b",
   "metadata": {},
   "outputs": [
    {
     "data": {
      "text/plain": [
       "['пигмент',\n",
       " 'мажорный',\n",
       " 'самоповреждение',\n",
       " 'заветинский',\n",
       " 'филамент',\n",
       " 'fretilin',\n",
       " 'григорашвили',\n",
       " 'гау',\n",
       " 'прожа',\n",
       " 'уэмбль']"
      ]
     },
     "execution_count": 146,
     "metadata": {},
     "output_type": "execute_result"
    }
   ],
   "source": [
    "most_similar('пигмент', model_cbow_mod.layers[2].get_weights()[0])"
   ]
  },
  {
   "cell_type": "markdown",
   "id": "48627c31",
   "metadata": {},
   "source": [
    "Модели обученные на разного размера окнах ничем не отличаются друг от друга в качестве представления близлежащих слов"
   ]
  },
  {
   "cell_type": "markdown",
   "id": "c3b61b7c",
   "metadata": {},
   "source": [
    "# Задание 2 (3 балла)"
   ]
  },
  {
   "cell_type": "markdown",
   "id": "66eff080",
   "metadata": {},
   "source": [
    "Обучите 1 word2vec и 1 fastext модель в gensim. В каждой из модели нужно задать все параметры, которые мы разбирали на семинаре. Заданные значения должны отличаться от дефолтных и от тех, что мы использовали на семинаре."
   ]
  },
  {
   "cell_type": "code",
   "execution_count": 61,
   "id": "e5035bdc",
   "metadata": {},
   "outputs": [],
   "source": [
    "import gensim"
   ]
  },
  {
   "cell_type": "code",
   "execution_count": 62,
   "id": "24a6c276",
   "metadata": {},
   "outputs": [],
   "source": [
    "data = open('wiki_data.txt').read().split('\\n')"
   ]
  },
  {
   "cell_type": "code",
   "execution_count": 64,
   "id": "25698ae7",
   "metadata": {},
   "outputs": [],
   "source": [
    "data = data[:10000]"
   ]
  },
  {
   "cell_type": "code",
   "execution_count": 66,
   "id": "44ce7786",
   "metadata": {},
   "outputs": [],
   "source": [
    "texts = [preprocess(text) for text in data]"
   ]
  },
  {
   "cell_type": "code",
   "execution_count": 79,
   "id": "e7a1504d",
   "metadata": {},
   "outputs": [
    {
     "name": "stdout",
     "output_type": "stream",
     "text": [
      "CPU times: user 20.9 s, sys: 177 ms, total: 21.1 s\n",
      "Wall time: 7.68 s\n"
     ]
    }
   ],
   "source": [
    "%%time\n",
    "w2v_1 = gensim.models.Word2Vec(texts, \n",
    "                             vector_size=200, \n",
    "                             min_count=10, \n",
    "                             max_vocab_size=5000,\n",
    "                             window=5,\n",
    "                             epochs=7)"
   ]
  },
  {
   "cell_type": "code",
   "execution_count": 81,
   "id": "a088789b",
   "metadata": {},
   "outputs": [
    {
     "data": {
      "text/plain": [
       "[('цк', 0.9043331146240234),\n",
       " ('секретарь', 0.8034602403640747),\n",
       " ('сср', 0.77491694688797),\n",
       " ('заместитель', 0.7304462790489197),\n",
       " ('б', 0.7300452589988708),\n",
       " ('председатель', 0.6950972676277161),\n",
       " ('партийный', 0.6592340469360352),\n",
       " ('1934', 0.6590571403503418),\n",
       " ('рсфср', 0.6563038229942322),\n",
       " ('1957', 0.6504722237586975)]"
      ]
     },
     "execution_count": 81,
     "metadata": {},
     "output_type": "execute_result"
    }
   ],
   "source": [
    "w2v_1.wv.most_similar('кпсс')"
   ]
  },
  {
   "cell_type": "code",
   "execution_count": 85,
   "id": "85410082",
   "metadata": {},
   "outputs": [
    {
     "data": {
      "text/plain": [
       "[('убийца', 0.6532257199287415),\n",
       " ('полиция', 0.5652472376823425),\n",
       " ('смерть', 0.5590037703514099),\n",
       " ('арестовать', 0.5450291633605957),\n",
       " ('муж', 0.5373110175132751),\n",
       " ('тюрьма', 0.5313440561294556),\n",
       " ('возвращение', 0.5253629088401794),\n",
       " ('убитый', 0.5155385732650757),\n",
       " ('жена', 0.49530333280563354),\n",
       " ('суд', 0.4902786910533905)]"
      ]
     },
     "execution_count": 85,
     "metadata": {},
     "output_type": "execute_result"
    }
   ],
   "source": [
    "w2v_1.wv.most_similar('убийство')"
   ]
  },
  {
   "cell_type": "code",
   "execution_count": 87,
   "id": "4f346797",
   "metadata": {},
   "outputs": [
    {
     "name": "stdout",
     "output_type": "stream",
     "text": [
      "CPU times: user 19.5 s, sys: 138 ms, total: 19.7 s\n",
      "Wall time: 7.94 s\n"
     ]
    }
   ],
   "source": [
    "%%time\n",
    "w2v_2 = gensim.models.Word2Vec(texts, \n",
    "                             vector_size=100, \n",
    "                             max_vocab_size=30000,\n",
    "                             window=12,\n",
    "                             sample=1e-5,\n",
    "                             epochs=10)"
   ]
  },
  {
   "cell_type": "code",
   "execution_count": 88,
   "id": "9107ecfe",
   "metadata": {},
   "outputs": [
    {
     "data": {
      "text/plain": [
       "[('цк', 0.9943201541900635),\n",
       " ('обком', 0.9927290081977844),\n",
       " ('сср', 0.9906488060951233),\n",
       " ('киргизский', 0.9873512387275696),\n",
       " ('райком', 0.9866804480552673),\n",
       " ('горком', 0.9841035604476929),\n",
       " ('созыв', 0.9784717559814453),\n",
       " ('1925', 0.9784041047096252),\n",
       " ('1936', 0.977519690990448),\n",
       " ('секретарь', 0.9769953489303589)]"
      ]
     },
     "execution_count": 88,
     "metadata": {},
     "output_type": "execute_result"
    }
   ],
   "source": [
    "w2v_2.wv.most_similar('кпсс')"
   ]
  },
  {
   "cell_type": "code",
   "execution_count": 89,
   "id": "e5954f87",
   "metadata": {},
   "outputs": [
    {
     "data": {
      "text/plain": [
       "[('убедить', 0.9803911447525024),\n",
       " ('преступник', 0.9762445092201233),\n",
       " ('попросить', 0.9752590656280518),\n",
       " ('полицейский', 0.9732139706611633),\n",
       " ('заявлять', 0.9686585068702698),\n",
       " ('петио', 0.9678609371185303),\n",
       " ('событие', 0.967854917049408),\n",
       " ('моррис', 0.9661118984222412),\n",
       " ('согласиться', 0.9654927253723145),\n",
       " ('вспоминать', 0.9635506272315979)]"
      ]
     },
     "execution_count": 89,
     "metadata": {},
     "output_type": "execute_result"
    }
   ],
   "source": [
    "w2v_2.wv.most_similar('убийство')"
   ]
  },
  {
   "cell_type": "code",
   "execution_count": 90,
   "id": "56a5e768",
   "metadata": {},
   "outputs": [
    {
     "name": "stdout",
     "output_type": "stream",
     "text": [
      "CPU times: user 1min 36s, sys: 801 ms, total: 1min 37s\n",
      "Wall time: 36 s\n"
     ]
    }
   ],
   "source": [
    "%%time\n",
    "\n",
    "ft_1 = gensim.models.FastText(texts)"
   ]
  },
  {
   "cell_type": "code",
   "execution_count": 91,
   "id": "bfc57926",
   "metadata": {},
   "outputs": [
    {
     "data": {
      "text/plain": [
       "[('монастырь', 0.9114718437194824),\n",
       " ('собор', 0.8867537975311279),\n",
       " ('храм', 0.8835501670837402),\n",
       " ('святилище', 0.8676038980484009),\n",
       " ('святск', 0.865126371383667),\n",
       " ('святыня', 0.8515477180480957),\n",
       " ('часовня', 0.8238818645477295),\n",
       " ('богородица', 0.8059545159339905),\n",
       " ('святосла', 0.8032811284065247),\n",
       " ('монах', 0.8030121922492981)]"
      ]
     },
     "execution_count": 91,
     "metadata": {},
     "output_type": "execute_result"
    }
   ],
   "source": [
    "ft_1.wv.most_similar('кпсс')"
   ]
  },
  {
   "cell_type": "code",
   "execution_count": 106,
   "id": "f7cdcca6",
   "metadata": {},
   "outputs": [
    {
     "data": {
      "text/plain": [
       "[('самоубийство', 0.9728110432624817),\n",
       " ('масонство', 0.8620576858520508),\n",
       " ('любопытство', 0.8598005771636963),\n",
       " ('детство', 0.8476846814155579),\n",
       " ('бегство', 0.8476760387420654),\n",
       " ('чувство', 0.8414034247398376),\n",
       " ('свойство', 0.8411504626274109),\n",
       " ('убранство', 0.8383883833885193),\n",
       " ('совершенство', 0.8383099436759949),\n",
       " ('ходатайство', 0.8348193764686584)]"
      ]
     },
     "execution_count": 106,
     "metadata": {},
     "output_type": "execute_result"
    }
   ],
   "source": [
    "ft_1.wv.most_similar('убийство')"
   ]
  },
  {
   "cell_type": "code",
   "execution_count": 107,
   "id": "9b574403",
   "metadata": {},
   "outputs": [
    {
     "name": "stdout",
     "output_type": "stream",
     "text": [
      "CPU times: user 4min 2s, sys: 1.7 s, total: 4min 4s\n",
      "Wall time: 1min 26s\n"
     ]
    }
   ],
   "source": [
    "%%time\n",
    "\n",
    "ft_2 = gensim.models.FastText(texts, min_n=1, max_n=9)"
   ]
  },
  {
   "cell_type": "code",
   "execution_count": 109,
   "id": "07f0355f",
   "metadata": {},
   "outputs": [
    {
     "data": {
      "text/plain": [
       "[('эссекс', 0.7894317507743835),\n",
       " ('комиссар', 0.7708514332771301),\n",
       " ('класс', 0.7536948323249817),\n",
       " ('бсср', 0.749340832233429),\n",
       " ('ссср', 0.7482654452323914),\n",
       " ('сс', 0.7476797699928284),\n",
       " ('асс', 0.7465491890907288),\n",
       " ('сср', 0.7461934685707092),\n",
       " ('кпрф', 0.745700478553772),\n",
       " ('ркп', 0.7430505752563477)]"
      ]
     },
     "execution_count": 109,
     "metadata": {},
     "output_type": "execute_result"
    }
   ],
   "source": [
    "ft_2.wv.most_similar('кпсс')"
   ]
  },
  {
   "cell_type": "markdown",
   "id": "e4bb928c",
   "metadata": {},
   "source": [
    "# Задание 3 (4 балла)"
   ]
  },
  {
   "cell_type": "markdown",
   "id": "3019b0d1",
   "metadata": {},
   "source": [
    "Используя датасет для классификации (labeled.csv) и простую нейронную сеть (последняя модель в семинаре), оцените качество полученных эмбедингов в задании 1 и 2 (4 набора эмбедингов), также проверьте 1 любую из предобученных моделей с rus-vectores (но только не tayga_upos_skipgram_300_2_2019). \n",
    "Какая модель показывает наилучший результат?\n",
    "\n",
    "Убедитесь, что для каждой модели вы корректно воспроизводите пайплайн предобработки (в 1 задании у вас лемматизация, не забудьте ее применить к датасету для классификации; у выбранной предобученной модели может быть своя специфичная предобработка - ее нужно воспроизвести)"
   ]
  },
  {
   "cell_type": "code",
   "execution_count": null,
   "id": "ed908832",
   "metadata": {},
   "outputs": [],
   "source": []
  },
  {
   "cell_type": "code",
   "execution_count": null,
   "id": "60c18c5a",
   "metadata": {},
   "outputs": [],
   "source": []
  }
 ],
 "metadata": {
  "kernelspec": {
   "display_name": "Python 3",
   "language": "python",
   "name": "python3"
  },
  "language_info": {
   "codemirror_mode": {
    "name": "ipython",
    "version": 3
   },
   "file_extension": ".py",
   "mimetype": "text/x-python",
   "name": "python",
   "nbconvert_exporter": "python",
   "pygments_lexer": "ipython3",
   "version": "3.8.10"
  }
 },
 "nbformat": 4,
 "nbformat_minor": 5
}
